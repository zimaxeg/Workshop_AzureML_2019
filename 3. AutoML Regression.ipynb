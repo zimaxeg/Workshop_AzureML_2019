{
 "cells": [
  {
   "cell_type": "markdown",
   "metadata": {},
   "source": [
    "# AutoML Regression\n"
   ]
  },
  {
   "cell_type": "markdown",
   "metadata": {},
   "source": [
    "<img src='https://github.com/retkowsky/images/blob/master/AzureMLservicebanniere.png?raw=true'>"
   ]
  },
  {
   "cell_type": "code",
   "execution_count": 1,
   "metadata": {},
   "outputs": [
    {
     "name": "stdout",
     "output_type": "stream",
     "text": [
      "Version Python :  3.6.9 |Anaconda, Inc.| (default, Jul 30 2019, 19:07:31) \n",
      "[GCC 7.3.0]\n"
     ]
    }
   ],
   "source": [
    "import sys\n",
    "print(\"Version Python : \", sys.version)"
   ]
  },
  {
   "cell_type": "code",
   "execution_count": 2,
   "metadata": {},
   "outputs": [
    {
     "name": "stdout",
     "output_type": "stream",
     "text": [
      "2019-12-02 09:47:23.371029\n"
     ]
    }
   ],
   "source": [
    "import datetime\n",
    "now = datetime.datetime.now()\n",
    "print(now)"
   ]
  },
  {
   "cell_type": "code",
   "execution_count": 3,
   "metadata": {},
   "outputs": [
    {
     "name": "stdout",
     "output_type": "stream",
     "text": [
      "Version Azure ML service : 1.0.74\n"
     ]
    }
   ],
   "source": [
    "import azureml.core\n",
    "print(\"Version Azure ML service :\", azureml.core.VERSION)"
   ]
  },
  {
   "cell_type": "markdown",
   "metadata": {},
   "source": [
    "## 1. Création expérimentation\n",
    "\n",
    "As part of the setup you have already created an Azure ML `Workspace` object. For AutoML you will need to create an `Experiment` object, which is a named object in a `Workspace` used to run experiments."
   ]
  },
  {
   "cell_type": "code",
   "execution_count": 4,
   "metadata": {},
   "outputs": [],
   "source": [
    "import logging\n",
    "import os\n",
    "import random\n",
    "\n",
    "from matplotlib import pyplot as plt\n",
    "from matplotlib.pyplot import imshow\n",
    "import numpy as np\n",
    "import pandas as pd\n",
    "from sklearn import datasets\n",
    "\n",
    "import azureml.core\n",
    "from azureml.core.experiment import Experiment\n",
    "from azureml.core.workspace import Workspace\n",
    "from azureml.train.automl import AutoMLConfig\n",
    "from azureml.train.automl.run import AutoMLRun"
   ]
  },
  {
   "cell_type": "code",
   "execution_count": 5,
   "metadata": {},
   "outputs": [
    {
     "data": {
      "text/html": [
       "<div>\n",
       "<style scoped>\n",
       "    .dataframe tbody tr th:only-of-type {\n",
       "        vertical-align: middle;\n",
       "    }\n",
       "\n",
       "    .dataframe tbody tr th {\n",
       "        vertical-align: top;\n",
       "    }\n",
       "\n",
       "    .dataframe thead th {\n",
       "        text-align: right;\n",
       "    }\n",
       "</style>\n",
       "<table border=\"1\" class=\"dataframe\">\n",
       "  <thead>\n",
       "    <tr style=\"text-align: right;\">\n",
       "      <th></th>\n",
       "      <th></th>\n",
       "    </tr>\n",
       "  </thead>\n",
       "  <tbody>\n",
       "    <tr>\n",
       "      <th>SDK version</th>\n",
       "      <td>1.0.74</td>\n",
       "    </tr>\n",
       "    <tr>\n",
       "      <th>Workspace Name</th>\n",
       "      <td>workshopml</td>\n",
       "    </tr>\n",
       "    <tr>\n",
       "      <th>Resource Group</th>\n",
       "      <td>workshopmlRG</td>\n",
       "    </tr>\n",
       "    <tr>\n",
       "      <th>Location</th>\n",
       "      <td>northeurope</td>\n",
       "    </tr>\n",
       "    <tr>\n",
       "      <th>Project Directory</th>\n",
       "      <td>./sample_projects/workshop3</td>\n",
       "    </tr>\n",
       "    <tr>\n",
       "      <th>Experiment Name</th>\n",
       "      <td>workshop3-automlregression</td>\n",
       "    </tr>\n",
       "  </tbody>\n",
       "</table>\n",
       "</div>"
      ],
      "text/plain": [
       "                                              \n",
       "SDK version        1.0.74                     \n",
       "Workspace Name     workshopml                 \n",
       "Resource Group     workshopmlRG               \n",
       "Location           northeurope                \n",
       "Project Directory  ./sample_projects/workshop3\n",
       "Experiment Name    workshop3-automlregression "
      ]
     },
     "execution_count": 5,
     "metadata": {},
     "output_type": "execute_result"
    }
   ],
   "source": [
    "ws = Workspace.from_config()\n",
    "\n",
    "# Choose a name for the experiment and specify the project folder.\n",
    "experiment_name = 'workshop3-automlregression'\n",
    "project_folder = './sample_projects/workshop3'\n",
    "\n",
    "experiment = Experiment(ws, experiment_name)\n",
    "\n",
    "output = {}\n",
    "output['SDK version'] = azureml.core.VERSION\n",
    "output['Workspace Name'] = ws.name\n",
    "output['Resource Group'] = ws.resource_group\n",
    "output['Location'] = ws.location\n",
    "output['Project Directory'] = project_folder\n",
    "output['Experiment Name'] = experiment.name\n",
    "pd.set_option('display.max_colwidth', -1)\n",
    "pd.DataFrame(data = output, index = ['']).T"
   ]
  },
  {
   "cell_type": "markdown",
   "metadata": {},
   "source": [
    "## 2. Chargement des données\n",
    "\n",
    "This uses scikit-learn's [load_diabetes](http://scikit-learn.org/stable/modules/generated/sklearn.datasets.load_diabetes.html) method."
   ]
  },
  {
   "cell_type": "code",
   "execution_count": 6,
   "metadata": {},
   "outputs": [],
   "source": [
    "# Load the diabetes dataset, a well-known built-in small dataset that comes with scikit-learn.\n",
    "from sklearn.datasets import load_diabetes\n",
    "from sklearn.linear_model import Ridge\n",
    "from sklearn.metrics import mean_squared_error\n",
    "from sklearn.model_selection import train_test_split\n",
    "\n",
    "X, y = load_diabetes(return_X_y = True)\n",
    "\n",
    "columns = ['age', 'gender', 'bmi', 'bp', 's1', 's2', 's3', 's4', 's5', 's6']\n",
    "\n",
    "X_train, X_test, y_train, y_test = train_test_split(X, y, test_size = 0.2, random_state = 0)"
   ]
  },
  {
   "cell_type": "markdown",
   "metadata": {},
   "source": [
    "## 3. Configuration AutoML\n"
   ]
  },
  {
   "cell_type": "code",
   "execution_count": 8,
   "metadata": {},
   "outputs": [
    {
     "name": "stderr",
     "output_type": "stream",
     "text": [
      "WARNING - The AutoMLConfig inputs you have specified will soon be deprecated. Please use the AutoMLConfig shown in our documentation: https://aka.ms/AutoMLConfig\n"
     ]
    }
   ],
   "source": [
    "automl_config = AutoMLConfig(task = 'regression',\n",
    "                             debug_log = 'automlworkshop3.log',\n",
    "                             iteration_timeout_minutes = 2, #Temps max par itération\n",
    "                             experiment_timeout_minutes = 5, #Temps max pour l'automl\n",
    "                             enable_early_stopping=True, # critère de sortie si pas d'amélioration de la métrique\n",
    "                             primary_metric = 'spearman_correlation', #métrique\n",
    "                             n_cross_validations = 5, #nombre de validation croisées\n",
    "                             X = X_train, \n",
    "                             y = y_train,\n",
    "                             path = project_folder)"
   ]
  },
  {
   "cell_type": "markdown",
   "metadata": {},
   "source": [
    "## 4. AutoML\n",
    "\n",
    "Call the `submit` method on the experiment object and pass the run configuration. Execution of local runs is synchronous. Depending on the data and the number of iterations this can run for a while.\n",
    "In this example, we specify `show_output = True` to print currently running iterations to the console.\n",
    "\n",
    "`spearman_correlation` is the metric used."
   ]
  },
  {
   "cell_type": "code",
   "execution_count": 9,
   "metadata": {
    "scrolled": true
   },
   "outputs": [
    {
     "name": "stdout",
     "output_type": "stream",
     "text": [
      "Running on local machine\n",
      "Parent Run ID: AutoML_c0c5124d-125b-40aa-84e6-28c7bfde1b76\n",
      "Current status: DatasetCrossValidationSplit. Generating CV splits.\n",
      "Current status: ModelSelection. Beginning model selection.\n",
      "\n",
      "****************************************************************************************************\n",
      "ITERATION: The iteration being evaluated.\n",
      "PIPELINE: A summary description of the pipeline being evaluated.\n",
      "DURATION: Time taken for the current iteration.\n",
      "METRIC: The result of computing score on the fitted pipeline.\n",
      "BEST: The best observed score thus far.\n",
      "****************************************************************************************************\n",
      "\n",
      " ITERATION   PIPELINE                                       DURATION      METRIC      BEST\n",
      "         0   StandardScalerWrapper RandomForest             0:00:12       0.7062    0.7062\n",
      "         1   MinMaxScaler RandomForest                      0:00:15       0.6648    0.7062\n",
      "         2   StandardScalerWrapper ExtremeRandomTrees       0:00:11       0.6910    0.7062\n",
      "         3   StandardScalerWrapper LightGBM                 0:00:13       0.6831    0.7062\n",
      "         4   RobustScaler DecisionTree                      0:00:12       0.4887    0.7062\n",
      "         5   StandardScalerWrapper LassoLars                0:00:12       0.7176    0.7176\n",
      "         6   StandardScalerWrapper LightGBM                 0:00:12       0.6774    0.7176\n",
      "         7   StandardScalerWrapper RandomForest             0:00:12       0.7035    0.7176\n",
      "         8   StandardScalerWrapper LassoLars                0:00:12       0.7179    0.7179\n",
      "         9   MinMaxScaler ExtremeRandomTrees                0:00:12       0.6281    0.7179\n",
      "        10   RobustScaler ExtremeRandomTrees                0:00:12       0.7018    0.7179\n",
      "        11   StandardScalerWrapper ExtremeRandomTrees       0:00:12       0.6975    0.7179\n",
      "        12   MinMaxScaler ExtremeRandomTrees                0:00:12       0.6899    0.7179\n",
      "        13   RobustScaler RandomForest                      0:00:13       0.6761    0.7179\n",
      "        14   StandardScalerWrapper LassoLars                0:00:11       0.7177    0.7179\n",
      "        15   StandardScalerWrapper ExtremeRandomTrees       0:00:12       0.7080    0.7179\n",
      "        16   StandardScalerWrapper RandomForest             0:00:12       0.6867    0.7179\n",
      "        17   MinMaxScaler SGD                               0:00:11       0.6929    0.7179\n",
      "        18   StandardScalerWrapper RandomForest             0:00:11       0.6557    0.7179\n",
      "        19   MinMaxScaler RandomForest                      0:00:12       0.6900    0.7179\n",
      "        20   StandardScalerWrapper LassoLars                0:00:13       0.6866    0.7179\n",
      "        21   MinMaxScaler DecisionTree                      0:00:14       0.4588    0.7179\n",
      "        22   RobustScaler LightGBM                          0:00:13       0.6717    0.7179\n",
      "        23   MaxAbsScaler RandomForest                      0:00:17       0.4931    0.7179\n",
      "        24   VotingEnsemble                                 0:00:17       0.7339    0.7339\n",
      "        25   StackEnsemble                                  0:00:16       0.7273    0.7339\n",
      "Stopping criteria reached at iteration 25. Ending experiment.\n",
      "CPU times: user 16.1 s, sys: 2.4 s, total: 18.5 s\n",
      "Wall time: 5min 46s\n"
     ]
    }
   ],
   "source": [
    "%%time\n",
    "local_run = experiment.submit(automl_config, show_output = True)"
   ]
  },
  {
   "cell_type": "code",
   "execution_count": 10,
   "metadata": {},
   "outputs": [
    {
     "data": {
      "text/html": [
       "<table style=\"width:100%\"><tr><th>Experiment</th><th>Id</th><th>Type</th><th>Status</th><th>Details Page</th><th>Docs Page</th></tr><tr><td>workshop3-automlregression</td><td>AutoML_c0c5124d-125b-40aa-84e6-28c7bfde1b76</td><td>automl</td><td>Running</td><td><a href=\"https://ml.azure.com/experiments/workshop3-automlregression/runs/AutoML_c0c5124d-125b-40aa-84e6-28c7bfde1b76?wsid=/subscriptions/70b8f39e-8863-49f7-b6ba-34a80799550c/resourcegroups/workshopmlRG/workspaces/workshopml\" target=\"_blank\" rel=\"noopener\">Link to Azure Machine Learning studio</a></td><td><a href=\"https://docs.microsoft.com/en-us/python/api/overview/azure/ml/intro?view=azure-ml-py\" target=\"_blank\" rel=\"noopener\">Link to Documentation</a></td></tr></table>"
      ],
      "text/plain": [
       "Run(Experiment: workshop3-automlregression,\n",
       "Id: AutoML_c0c5124d-125b-40aa-84e6-28c7bfde1b76,\n",
       "Type: automl,\n",
       "Status: Running)"
      ]
     },
     "execution_count": 10,
     "metadata": {},
     "output_type": "execute_result"
    }
   ],
   "source": [
    "local_run"
   ]
  },
  {
   "cell_type": "code",
   "execution_count": 11,
   "metadata": {},
   "outputs": [
    {
     "data": {
      "application/vnd.jupyter.widget-view+json": {
       "model_id": "d2458bbf99df46c3b27fbe54195ba77e",
       "version_major": 2,
       "version_minor": 0
      },
      "text/plain": [
       "_AutoMLWidget(widget_settings={'childWidgetDisplay': 'popup', 'send_telemetry': False, 'log_level': 'INFO', 's…"
      ]
     },
     "metadata": {},
     "output_type": "display_data"
    },
    {
     "data": {
      "application/aml.mini.widget.v1": "{\"status\": \"Completed\", \"workbench_run_details_uri\": \"https://ml.azure.com/experiments/workshop3-automlregression/runs/AutoML_c0c5124d-125b-40aa-84e6-28c7bfde1b76?wsid=/subscriptions/70b8f39e-8863-49f7-b6ba-34a80799550c/resourcegroups/workshopmlRG/workspaces/workshopml\", \"run_id\": \"AutoML_c0c5124d-125b-40aa-84e6-28c7bfde1b76\", \"run_properties\": {\"run_id\": \"AutoML_c0c5124d-125b-40aa-84e6-28c7bfde1b76\", \"created_utc\": \"2019-12-02T09:47:55.773969Z\", \"properties\": {\"num_iterations\": \"1000\", \"training_type\": \"TrainFull\", \"acquisition_function\": \"EI\", \"primary_metric\": \"spearman_correlation\", \"train_split\": \"0\", \"MaxTimeSeconds\": \"120\", \"acquisition_parameter\": \"0\", \"num_cross_validation\": \"5\", \"target\": \"local\", \"RawAMLSettingsString\": \"{'name': 'workshop3-automlregression', 'path': './sample_projects/workshop3', 'subscription_id': '70b8f39e-8863-49f7-b6ba-34a80799550c', 'resource_group': 'workshopmlRG', 'workspace_name': 'workshopml', 'region': 'northeurope', 'compute_target': 'local', 'spark_service': None, 'azure_service': None, 'iterations': 1000, 'primary_metric': 'spearman_correlation', 'task_type': 'regression', 'data_script': None, 'validation_size': 0.0, 'n_cross_validations': 5, 'y_min': 25.0, 'y_max': 346.0, 'num_classes': None, 'featurization': 'off', 'preprocess': False, 'lag_length': 0, 'is_timeseries': False, 'max_cores_per_iteration': 1, 'max_concurrent_iterations': 1, 'iteration_timeout_minutes': 2, 'mem_in_mb': None, 'enforce_time_on_windows': False, 'experiment_timeout_minutes': 5, 'experiment_exit_score': None, 'whitelist_models': None, 'blacklist_algos': ['XGBoostRegressor', 'Prophet'], 'supported_models': ['DecisionTree', 'ElasticNet', 'LassoLars', 'GradientBoosting', 'LightGBM', 'FastLinearRegressor', 'OnlineGradientDescentRegressor', 'XGBoostRegressor', 'ExtremeRandomTrees', 'RandomForest', 'KNN', 'TensorFlowLinearRegressor', 'TensorFlowDNN', 'SGD'], 'auto_blacklist': True, 'blacklist_samples_reached': False, 'exclude_nan_labels': True, 'verbosity': 20, 'debug_log': 'automlworkshop3.log', 'show_warnings': False, 'model_explainability': False, 'service_url': None, 'sdk_url': None, 'sdk_packages': None, 'enable_onnx_compatible_models': False, 'enable_split_onnx_featurizer_estimator_models': False, 'vm_type': None, 'telemetry_verbosity': 'INFO', 'send_telemetry': True, 'enable_dnn': False, 'enable_feature_sweeping': True, 'enable_early_stopping': True, 'early_stopping_n_iters': 10, 'metrics': None, 'enable_ensembling': True, 'enable_stack_ensembling': True, 'ensemble_iterations': 15, 'enable_tf': False, 'enable_cache': True, 'enable_subsampling': None, 'subsample_seed': None, 'enable_nimbusml': False, 'enable_streaming': False, 'label_column_name': None, 'weight_column_name': None, 'cost_mode': 0, 'metric_operation': 'maximize'}\", \"AMLSettingsJsonString\": \"{\\\"name\\\":\\\"workshop3-automlregression\\\",\\\"path\\\":\\\"./sample_projects/workshop3\\\",\\\"subscription_id\\\":\\\"70b8f39e-8863-49f7-b6ba-34a80799550c\\\",\\\"resource_group\\\":\\\"workshopmlRG\\\",\\\"workspace_name\\\":\\\"workshopml\\\",\\\"region\\\":\\\"northeurope\\\",\\\"compute_target\\\":\\\"local\\\",\\\"spark_service\\\":null,\\\"azure_service\\\":null,\\\"iterations\\\":1000,\\\"primary_metric\\\":\\\"spearman_correlation\\\",\\\"task_type\\\":\\\"regression\\\",\\\"data_script\\\":null,\\\"validation_size\\\":0.0,\\\"n_cross_validations\\\":5,\\\"y_min\\\":25.0,\\\"y_max\\\":346.0,\\\"num_classes\\\":null,\\\"featurization\\\":\\\"off\\\",\\\"preprocess\\\":false,\\\"lag_length\\\":0,\\\"is_timeseries\\\":false,\\\"max_cores_per_iteration\\\":1,\\\"max_concurrent_iterations\\\":1,\\\"iteration_timeout_minutes\\\":2,\\\"mem_in_mb\\\":null,\\\"enforce_time_on_windows\\\":false,\\\"experiment_timeout_minutes\\\":5,\\\"experiment_exit_score\\\":null,\\\"whitelist_models\\\":null,\\\"blacklist_algos\\\":[\\\"XGBoostRegressor\\\",\\\"Prophet\\\",\\\"AutoArima\\\"],\\\"supported_models\\\":[\\\"DecisionTree\\\",\\\"ElasticNet\\\",\\\"LassoLars\\\",\\\"GradientBoosting\\\",\\\"LightGBM\\\",\\\"FastLinearRegressor\\\",\\\"OnlineGradientDescentRegressor\\\",\\\"XGBoostRegressor\\\",\\\"ExtremeRandomTrees\\\",\\\"RandomForest\\\",\\\"KNN\\\",\\\"TensorFlowLinearRegressor\\\",\\\"TensorFlowDNN\\\",\\\"SGD\\\"],\\\"auto_blacklist\\\":true,\\\"blacklist_samples_reached\\\":false,\\\"exclude_nan_labels\\\":true,\\\"verbosity\\\":20,\\\"debug_log\\\":\\\"automlworkshop3.log\\\",\\\"show_warnings\\\":false,\\\"model_explainability\\\":false,\\\"service_url\\\":null,\\\"sdk_url\\\":null,\\\"sdk_packages\\\":null,\\\"enable_onnx_compatible_models\\\":false,\\\"enable_split_onnx_featurizer_estimator_models\\\":false,\\\"vm_type\\\":null,\\\"telemetry_verbosity\\\":\\\"INFO\\\",\\\"send_telemetry\\\":true,\\\"enable_dnn\\\":false,\\\"enable_feature_sweeping\\\":true,\\\"enable_early_stopping\\\":true,\\\"early_stopping_n_iters\\\":10,\\\"metrics\\\":null,\\\"enable_ensembling\\\":true,\\\"enable_stack_ensembling\\\":true,\\\"ensemble_iterations\\\":15,\\\"enable_tf\\\":false,\\\"enable_cache\\\":true,\\\"enable_subsampling\\\":null,\\\"subsample_seed\\\":null,\\\"enable_nimbusml\\\":false,\\\"enable_streaming\\\":false,\\\"label_column_name\\\":null,\\\"weight_column_name\\\":null,\\\"cost_mode\\\":0,\\\"metric_operation\\\":\\\"maximize\\\"}\", \"DataPrepJsonString\": null, \"EnableSubsampling\": null, \"runTemplate\": \"AutoML\", \"azureml.runsource\": \"automl\", \"display_task_type\": \"regression\", \"dependencies_versions\": \"{\\\"azureml-widgets\\\": \\\"1.0.74\\\", \\\"azureml-train\\\": \\\"1.0.74\\\", \\\"azureml-train-restclients-hyperdrive\\\": \\\"1.0.74\\\", \\\"azureml-train-core\\\": \\\"1.0.74\\\", \\\"azureml-train-automl\\\": \\\"1.0.74\\\", \\\"azureml-tensorboard\\\": \\\"1.0.74\\\", \\\"azureml-telemetry\\\": \\\"1.0.74\\\", \\\"azureml-sdk\\\": \\\"1.0.74\\\", \\\"azureml-samples\\\": \\\"0+unknown\\\", \\\"azureml-pipeline\\\": \\\"1.0.74\\\", \\\"azureml-pipeline-steps\\\": \\\"1.0.74\\\", \\\"azureml-pipeline-core\\\": \\\"1.0.74\\\", \\\"azureml-opendatasets\\\": \\\"1.0.74\\\", \\\"azureml-model-management-sdk\\\": \\\"1.0.1b6.post1\\\", \\\"azureml-mlflow\\\": \\\"1.0.74\\\", \\\"azureml-interpret\\\": \\\"1.0.74\\\", \\\"azureml-explain-model\\\": \\\"1.0.74\\\", \\\"azureml-defaults\\\": \\\"1.0.74\\\", \\\"azureml-dataprep\\\": \\\"1.1.30\\\", \\\"azureml-dataprep-native\\\": \\\"13.1.0\\\", \\\"azureml-datadrift\\\": \\\"1.0.74\\\", \\\"azureml-core\\\": \\\"1.0.74\\\", \\\"azureml-contrib-services\\\": \\\"1.0.74\\\", \\\"azureml-contrib-server\\\": \\\"1.0.74\\\", \\\"azureml-contrib-reinforcementlearning\\\": \\\"0.1.0.5919674\\\", \\\"azureml-contrib-opendatasets\\\": \\\"1.0.45\\\", \\\"azureml-contrib-notebook\\\": \\\"1.0.74\\\", \\\"azureml-contrib-interpret\\\": \\\"1.0.74\\\", \\\"azureml-contrib-datadrift\\\": \\\"1.0.74\\\", \\\"azureml-automl-core\\\": \\\"1.0.74\\\"}\", \"ProblemInfoJsonString\": \"{\\\"dataset_num_categorical\\\": 0, \\\"is_sparse\\\": false, \\\"subsampling\\\": false, \\\"dataset_classes\\\": 194, \\\"dataset_features\\\": 10, \\\"dataset_samples\\\": 353, \\\"single_frequency_class_detected\\\": false}\"}, \"tags\": {\"model_explain_run\": \"best_run\", \"experiment_status\": \"ModelSelection\", \"experiment_status_descr\": \"Beginning model selection.\", \"dynamic_whitelisting_iterations\": \"<20>;\"}, \"end_time_utc\": \"2019-12-02T09:53:38.520372Z\", \"status\": \"Completed\", \"log_files\": {}, \"log_groups\": [], \"run_duration\": \"0:05:42\"}, \"child_runs\": [{\"run_id\": \"AutoML_c0c5124d-125b-40aa-84e6-28c7bfde1b76_0\", \"run_number\": 2, \"metric\": null, \"status\": \"Completed\", \"run_type\": null, \"training_percent\": \"100\", \"start_time\": \"2019-12-02T09:47:57.545739Z\", \"end_time\": \"2019-12-02T09:48:08.863026Z\", \"created_time\": \"2019-12-02T09:47:57.440248Z\", \"created_time_dt\": \"2019-12-02T09:47:57.440248Z\", \"duration\": \"0:00:11\", \"iteration\": \"0\", \"goal\": \"spearman_correlation_max\", \"run_name\": \"StandardScalerWrapper, RandomForest\", \"run_properties\": \"bootstrap=False, criterion='mse', max_depth=None,\\n           max_features='sqrt', max_leaf_nodes=None,\\n           min_impurity_decrease=0.0, min_impurity_split=None,\\n           min_samples_leaf=0.05040306135985514,\\n           min_samples_split=0.002602463309528381,\\n           min_weight_fraction_leaf=0.0, n_estimators=25, n_jobs=1,\\n           oob_score=False, random_state=None, verbose=0, warm_start=False\", \"primary_metric\": 0.7061926, \"best_metric\": 0.7061926}, {\"run_id\": \"AutoML_c0c5124d-125b-40aa-84e6-28c7bfde1b76_1\", \"run_number\": 3, \"metric\": null, \"status\": \"Completed\", \"run_type\": null, \"training_percent\": \"100\", \"start_time\": \"2019-12-02T09:48:09.967018Z\", \"end_time\": \"2019-12-02T09:48:24.290194Z\", \"created_time\": \"2019-12-02T09:48:09.870126Z\", \"created_time_dt\": \"2019-12-02T09:48:09.870126Z\", \"duration\": \"0:00:14\", \"iteration\": \"1\", \"goal\": \"spearman_correlation_max\", \"run_name\": \"MinMaxScaler, RandomForest\", \"run_properties\": \"bootstrap=True, criterion='mse', max_depth=None,\\n           max_features=0.9, max_leaf_nodes=None,\\n           min_impurity_decrease=0.0, min_impurity_split=None,\\n           min_samples_leaf=0.006151578686713196,\\n           min_samples_split=0.010734188827013528,\\n           min_weight_fraction_leaf=0.0, n_estimators=25, n_jobs=1,\\n           oob_score=False, random_state=None, verbose=0, warm_start=False\", \"primary_metric\": 0.66483356, \"best_metric\": 0.7061926}, {\"run_id\": \"AutoML_c0c5124d-125b-40aa-84e6-28c7bfde1b76_2\", \"run_number\": 4, \"metric\": null, \"status\": \"Completed\", \"run_type\": null, \"training_percent\": \"100\", \"start_time\": \"2019-12-02T09:48:25.33782Z\", \"end_time\": \"2019-12-02T09:48:35.763144Z\", \"created_time\": \"2019-12-02T09:48:25.234606Z\", \"created_time_dt\": \"2019-12-02T09:48:25.234606Z\", \"duration\": \"0:00:10\", \"iteration\": \"2\", \"goal\": \"spearman_correlation_max\", \"run_name\": \"StandardScalerWrapper, ExtremeRandomTrees\", \"run_properties\": \"bootstrap=True, criterion='mse', max_depth=None,\\n          max_features=0.9, max_leaf_nodes=None, min_impurity_decrease=0.0,\\n          min_impurity_split=None, min_samples_leaf=0.0023646822772690063,\\n          min_samples_split=0.052853885930792446,\\n          min_weight_fraction_leaf=0.0, n_estimators=10, n_jobs=1,\\n          oob_score=False, random_state=None, verbose=0, warm_start=False\", \"primary_metric\": 0.69099437, \"best_metric\": 0.7061926}, {\"run_id\": \"AutoML_c0c5124d-125b-40aa-84e6-28c7bfde1b76_3\", \"run_number\": 5, \"metric\": null, \"status\": \"Completed\", \"run_type\": null, \"training_percent\": \"100\", \"start_time\": \"2019-12-02T09:48:36.763367Z\", \"end_time\": \"2019-12-02T09:48:49.34339Z\", \"created_time\": \"2019-12-02T09:48:36.650Z\", \"created_time_dt\": \"2019-12-02T09:48:36.650Z\", \"duration\": \"0:00:12\", \"iteration\": \"3\", \"goal\": \"spearman_correlation_max\", \"run_name\": \"StandardScalerWrapper, LightGBM\", \"run_properties\": \"boosting_type='gbdt', class_weight=None, colsample_bytree=1,\\n         importance_type='split', learning_rate=0.12631947368421054,\\n         max_bin=63, max_depth=5, min_child_samples=11,\\n         min_child_weight=0.001, min_split_gain=0.8421052631578947,\\n         n_estimators=25, n_jobs=1, num_leaves=3, objective=None,\\n         random_state=None, reg_alpha=0.3, reg_lambda=0.15, silent=True,\\n         subsample=0.9, subsample_for_bin=200000, subsample_freq=3,\\n         verbose=-1\", \"primary_metric\": 0.68306368, \"best_metric\": 0.7061926}, {\"run_id\": \"AutoML_c0c5124d-125b-40aa-84e6-28c7bfde1b76_4\", \"run_number\": 6, \"metric\": null, \"status\": \"Completed\", \"run_type\": null, \"training_percent\": \"100\", \"start_time\": \"2019-12-02T09:48:50.326324Z\", \"end_time\": \"2019-12-02T09:49:01.641647Z\", \"created_time\": \"2019-12-02T09:48:50.231282Z\", \"created_time_dt\": \"2019-12-02T09:48:50.231282Z\", \"duration\": \"0:00:11\", \"iteration\": \"4\", \"goal\": \"spearman_correlation_max\", \"run_name\": \"RobustScaler, DecisionTree\", \"run_properties\": \"criterion='mse', max_depth=None, max_features=None,\\n           max_leaf_nodes=None, min_impurity_decrease=0.0,\\n           min_impurity_split=None, min_samples_leaf=0.0030712916328495916,\\n           min_samples_split=0.0037087774117744725,\\n           min_weight_fraction_leaf=0.0, presort=False, random_state=None,\\n           splitter='best'\", \"primary_metric\": 0.48872419, \"best_metric\": 0.7061926}, {\"run_id\": \"AutoML_c0c5124d-125b-40aa-84e6-28c7bfde1b76_5\", \"run_number\": 7, \"metric\": null, \"status\": \"Completed\", \"run_type\": null, \"training_percent\": \"100\", \"start_time\": \"2019-12-02T09:49:02.645192Z\", \"end_time\": \"2019-12-02T09:49:13.740216Z\", \"created_time\": \"2019-12-02T09:49:02.550847Z\", \"created_time_dt\": \"2019-12-02T09:49:02.550847Z\", \"duration\": \"0:00:11\", \"iteration\": \"5\", \"goal\": \"spearman_correlation_max\", \"run_name\": \"StandardScalerWrapper, LassoLars\", \"run_properties\": \"alpha=0.001, copy_X=True, eps=2.220446049250313e-16,\\n     fit_intercept=True, fit_path=True, max_iter=500, normalize=True,\\n     positive=False, precompute='auto', verbose=False\", \"primary_metric\": 0.71762326, \"best_metric\": 0.71762326}, {\"run_id\": \"AutoML_c0c5124d-125b-40aa-84e6-28c7bfde1b76_6\", \"run_number\": 8, \"metric\": null, \"status\": \"Completed\", \"run_type\": null, \"training_percent\": \"100\", \"start_time\": \"2019-12-02T09:49:14.772645Z\", \"end_time\": \"2019-12-02T09:49:26.412952Z\", \"created_time\": \"2019-12-02T09:49:14.638752Z\", \"created_time_dt\": \"2019-12-02T09:49:14.638752Z\", \"duration\": \"0:00:11\", \"iteration\": \"6\", \"goal\": \"spearman_correlation_max\", \"run_name\": \"StandardScalerWrapper, LightGBM\", \"run_properties\": \"boosting_type='gbdt', class_weight=None, colsample_bytree=1,\\n         importance_type='split', learning_rate=0.1052678947368421,\\n         max_bin=7, max_depth=7, min_child_samples=1,\\n         min_child_weight=0.001, min_split_gain=0.7368421052631579,\\n         n_estimators=50, n_jobs=1, num_leaves=31, objective=None,\\n         random_state=None, reg_alpha=0, reg_lambda=1.5, silent=True,\\n         subsample=0.65, subsample_for_bin=200000, subsample_freq=1,\\n         verbose=-1\", \"primary_metric\": 0.6774315, \"best_metric\": 0.71762326}, {\"run_id\": \"AutoML_c0c5124d-125b-40aa-84e6-28c7bfde1b76_7\", \"run_number\": 9, \"metric\": null, \"status\": \"Completed\", \"run_type\": null, \"training_percent\": \"100\", \"start_time\": \"2019-12-02T09:49:27.3827Z\", \"end_time\": \"2019-12-02T09:49:38.649195Z\", \"created_time\": \"2019-12-02T09:49:27.277091Z\", \"created_time_dt\": \"2019-12-02T09:49:27.277091Z\", \"duration\": \"0:00:11\", \"iteration\": \"7\", \"goal\": \"spearman_correlation_max\", \"run_name\": \"StandardScalerWrapper, RandomForest\", \"run_properties\": \"bootstrap=False, criterion='mse', max_depth=None,\\n           max_features='sqrt', max_leaf_nodes=None,\\n           min_impurity_decrease=0.0, min_impurity_split=None,\\n           min_samples_leaf=0.02840067375118317,\\n           min_samples_split=0.0008991789964660114,\\n           min_weight_fraction_leaf=0.0, n_estimators=25, n_jobs=1,\\n           oob_score=False, random_state=None, verbose=0, warm_start=False\", \"primary_metric\": 0.70351982, \"best_metric\": 0.71762326}, {\"run_id\": \"AutoML_c0c5124d-125b-40aa-84e6-28c7bfde1b76_8\", \"run_number\": 10, \"metric\": null, \"status\": \"Completed\", \"run_type\": null, \"training_percent\": \"100\", \"start_time\": \"2019-12-02T09:49:39.672821Z\", \"end_time\": \"2019-12-02T09:49:50.819111Z\", \"created_time\": \"2019-12-02T09:49:39.549535Z\", \"created_time_dt\": \"2019-12-02T09:49:39.549535Z\", \"duration\": \"0:00:11\", \"iteration\": \"8\", \"goal\": \"spearman_correlation_max\", \"run_name\": \"StandardScalerWrapper, LassoLars\", \"run_properties\": \"alpha=0.001, copy_X=True, eps=2.220446049250313e-16,\\n     fit_intercept=True, fit_path=True, max_iter=500, normalize=False,\\n     positive=False, precompute='auto', verbose=False\", \"primary_metric\": 0.71789607, \"best_metric\": 0.71789607}, {\"run_id\": \"AutoML_c0c5124d-125b-40aa-84e6-28c7bfde1b76_9\", \"run_number\": 11, \"metric\": null, \"status\": \"Completed\", \"run_type\": null, \"training_percent\": \"100\", \"start_time\": \"2019-12-02T09:49:51.876629Z\", \"end_time\": \"2019-12-02T09:50:02.858655Z\", \"created_time\": \"2019-12-02T09:49:51.780054Z\", \"created_time_dt\": \"2019-12-02T09:49:51.780054Z\", \"duration\": \"0:00:11\", \"iteration\": \"9\", \"goal\": \"spearman_correlation_max\", \"run_name\": \"MinMaxScaler, ExtremeRandomTrees\", \"run_properties\": \"bootstrap=False, criterion='mse', max_depth=None,\\n          max_features=0.6, max_leaf_nodes=None, min_impurity_decrease=0.0,\\n          min_impurity_split=None, min_samples_leaf=0.003466237459044996,\\n          min_samples_split=0.0008991789964660114,\\n          min_weight_fraction_leaf=0.0, n_estimators=10, n_jobs=1,\\n          oob_score=False, random_state=None, verbose=0, warm_start=False\", \"primary_metric\": 0.62813047, \"best_metric\": 0.71789607}, {\"run_id\": \"AutoML_c0c5124d-125b-40aa-84e6-28c7bfde1b76_10\", \"run_number\": 12, \"metric\": null, \"status\": \"Completed\", \"run_type\": null, \"training_percent\": \"100\", \"start_time\": \"2019-12-02T09:50:03.837093Z\", \"end_time\": \"2019-12-02T09:50:15.073429Z\", \"created_time\": \"2019-12-02T09:50:03.738297Z\", \"created_time_dt\": \"2019-12-02T09:50:03.738297Z\", \"duration\": \"0:00:11\", \"iteration\": \"10\", \"goal\": \"spearman_correlation_max\", \"run_name\": \"RobustScaler, ExtremeRandomTrees\", \"run_properties\": \"bootstrap=False, criterion='mse', max_depth=None,\\n          max_features=0.9, max_leaf_nodes=None, min_impurity_decrease=0.0,\\n          min_impurity_split=None, min_samples_leaf=0.0074478228980205795,\\n          min_samples_split=0.001529732116091358,\\n          min_weight_fraction_leaf=0.0, n_estimators=50, n_jobs=1,\\n          oob_score=False, random_state=None, verbose=0, warm_start=False\", \"primary_metric\": 0.70178508, \"best_metric\": 0.71789607}, {\"run_id\": \"AutoML_c0c5124d-125b-40aa-84e6-28c7bfde1b76_11\", \"run_number\": 13, \"metric\": null, \"status\": \"Completed\", \"run_type\": null, \"training_percent\": \"100\", \"start_time\": \"2019-12-02T09:50:16.186496Z\", \"end_time\": \"2019-12-02T09:50:27.486399Z\", \"created_time\": \"2019-12-02T09:50:16.089222Z\", \"created_time_dt\": \"2019-12-02T09:50:16.089222Z\", \"duration\": \"0:00:11\", \"iteration\": \"11\", \"goal\": \"spearman_correlation_max\", \"run_name\": \"StandardScalerWrapper, ExtremeRandomTrees\", \"run_properties\": \"bootstrap=False, criterion='mse', max_depth=None,\\n          max_features=0.6, max_leaf_nodes=None, min_impurity_decrease=0.0,\\n          min_impurity_split=None, min_samples_leaf=0.006151578686713196,\\n          min_samples_split=0.03708777411774474,\\n          min_weight_fraction_leaf=0.0, n_estimators=10, n_jobs=1,\\n          oob_score=False, random_state=None, verbose=0, warm_start=False\", \"primary_metric\": 0.69746096, \"best_metric\": 0.71789607}, {\"run_id\": \"AutoML_c0c5124d-125b-40aa-84e6-28c7bfde1b76_12\", \"run_number\": 14, \"metric\": null, \"status\": \"Completed\", \"run_type\": null, \"training_percent\": \"100\", \"start_time\": \"2019-12-02T09:50:28.697729Z\", \"end_time\": \"2019-12-02T09:50:39.827057Z\", \"created_time\": \"2019-12-02T09:50:28.429995Z\", \"created_time_dt\": \"2019-12-02T09:50:28.429995Z\", \"duration\": \"0:00:11\", \"iteration\": \"12\", \"goal\": \"spearman_correlation_max\", \"run_name\": \"MinMaxScaler, ExtremeRandomTrees\", \"run_properties\": \"bootstrap=False, criterion='mse', max_depth=None,\\n          max_features=0.9, max_leaf_nodes=None, min_impurity_decrease=0.0,\\n          min_impurity_split=None, min_samples_leaf=0.01600296187889058,\\n          min_samples_split=0.015297321160913582,\\n          min_weight_fraction_leaf=0.0, n_estimators=10, n_jobs=1,\\n          oob_score=False, random_state=None, verbose=0, warm_start=False\", \"primary_metric\": 0.68987057, \"best_metric\": 0.71789607}, {\"run_id\": \"AutoML_c0c5124d-125b-40aa-84e6-28c7bfde1b76_13\", \"run_number\": 15, \"metric\": null, \"status\": \"Completed\", \"run_type\": null, \"training_percent\": \"100\", \"start_time\": \"2019-12-02T09:50:40.97174Z\", \"end_time\": \"2019-12-02T09:50:52.960811Z\", \"created_time\": \"2019-12-02T09:50:40.815299Z\", \"created_time_dt\": \"2019-12-02T09:50:40.815299Z\", \"duration\": \"0:00:12\", \"iteration\": \"13\", \"goal\": \"spearman_correlation_max\", \"run_name\": \"RobustScaler, RandomForest\", \"run_properties\": \"bootstrap=True, criterion='mse', max_depth=None,\\n           max_features=0.1, max_leaf_nodes=None,\\n           min_impurity_decrease=0.0, min_impurity_split=None,\\n           min_samples_leaf=0.004196633747563344,\\n           min_samples_split=0.001529732116091358,\\n           min_weight_fraction_leaf=0.0, n_estimators=25, n_jobs=1,\\n           oob_score=False, random_state=None, verbose=0, warm_start=False\", \"primary_metric\": 0.67613479, \"best_metric\": 0.71789607}, {\"run_id\": \"AutoML_c0c5124d-125b-40aa-84e6-28c7bfde1b76_14\", \"run_number\": 16, \"metric\": null, \"status\": \"Completed\", \"run_type\": null, \"training_percent\": \"100\", \"start_time\": \"2019-12-02T09:50:53.93165Z\", \"end_time\": \"2019-12-02T09:51:04.598083Z\", \"created_time\": \"2019-12-02T09:50:53.828279Z\", \"created_time_dt\": \"2019-12-02T09:50:53.828279Z\", \"duration\": \"0:00:10\", \"iteration\": \"14\", \"goal\": \"spearman_correlation_max\", \"run_name\": \"StandardScalerWrapper, LassoLars\", \"run_properties\": \"alpha=0.47421052631578947, copy_X=True, eps=2.220446049250313e-16,\\n     fit_intercept=True, fit_path=True, max_iter=500, normalize=False,\\n     positive=False, precompute='auto', verbose=False\", \"primary_metric\": 0.7177189, \"best_metric\": 0.71789607}, {\"run_id\": \"AutoML_c0c5124d-125b-40aa-84e6-28c7bfde1b76_15\", \"run_number\": 17, \"metric\": null, \"status\": \"Completed\", \"run_type\": null, \"training_percent\": \"100\", \"start_time\": \"2019-12-02T09:51:05.611211Z\", \"end_time\": \"2019-12-02T09:51:17.116058Z\", \"created_time\": \"2019-12-02T09:51:05.507627Z\", \"created_time_dt\": \"2019-12-02T09:51:05.507627Z\", \"duration\": \"0:00:11\", \"iteration\": \"15\", \"goal\": \"spearman_correlation_max\", \"run_name\": \"StandardScalerWrapper, ExtremeRandomTrees\", \"run_properties\": \"bootstrap=True, criterion='mse', max_depth=None,\\n          max_features='log2', max_leaf_nodes=None,\\n          min_impurity_decrease=0.0, min_impurity_split=None,\\n          min_samples_leaf=0.001953125,\\n          min_samples_split=0.026024633095283807,\\n          min_weight_fraction_leaf=0.0, n_estimators=50, n_jobs=1,\\n          oob_score=False, random_state=None, verbose=0, warm_start=False\", \"primary_metric\": 0.70802852, \"best_metric\": 0.71789607}, {\"run_id\": \"AutoML_c0c5124d-125b-40aa-84e6-28c7bfde1b76_16\", \"run_number\": 18, \"metric\": null, \"status\": \"Completed\", \"run_type\": null, \"training_percent\": \"100\", \"start_time\": \"2019-12-02T09:51:18.14013Z\", \"end_time\": \"2019-12-02T09:51:29.163299Z\", \"created_time\": \"2019-12-02T09:51:18.045335Z\", \"created_time_dt\": \"2019-12-02T09:51:18.045335Z\", \"duration\": \"0:00:11\", \"iteration\": \"16\", \"goal\": \"spearman_correlation_max\", \"run_name\": \"StandardScalerWrapper, RandomForest\", \"run_properties\": \"bootstrap=True, criterion='mse', max_depth=None,\\n           max_features='log2', max_leaf_nodes=None,\\n           min_impurity_decrease=0.0, min_impurity_split=None,\\n           min_samples_leaf=0.006151578686713196,\\n           min_samples_split=0.018261584682702607,\\n           min_weight_fraction_leaf=0.0, n_estimators=25, n_jobs=1,\\n           oob_score=False, random_state=None, verbose=0, warm_start=False\", \"primary_metric\": 0.68674611, \"best_metric\": 0.71789607}, {\"run_id\": \"AutoML_c0c5124d-125b-40aa-84e6-28c7bfde1b76_17\", \"run_number\": 19, \"metric\": null, \"status\": \"Completed\", \"run_type\": null, \"training_percent\": \"100\", \"start_time\": \"2019-12-02T09:51:30.250021Z\", \"end_time\": \"2019-12-02T09:51:40.756974Z\", \"created_time\": \"2019-12-02T09:51:30.155028Z\", \"created_time_dt\": \"2019-12-02T09:51:30.155028Z\", \"duration\": \"0:00:10\", \"iteration\": \"17\", \"goal\": \"spearman_correlation_max\", \"run_name\": \"MinMaxScaler, SGD\", \"run_properties\": \"alpha=0.0001, average=False, early_stopping=False, epsilon=0.1,\\n       eta0=0.001, fit_intercept=False, l1_ratio=0.5714285714285714,\\n       learning_rate='constant', loss='squared_epsilon_insensitive',\\n       max_iter=None, n_iter=50, n_iter_no_change=5, penalty='none',\\n       power_t=0.3333333333333333, random_state=None, shuffle=True,\\n       tol=0.001, validation_fraction=0.1, verbose=0, warm_start=False\", \"primary_metric\": 0.69288693, \"best_metric\": 0.71789607}, {\"run_id\": \"AutoML_c0c5124d-125b-40aa-84e6-28c7bfde1b76_18\", \"run_number\": 20, \"metric\": null, \"status\": \"Completed\", \"run_type\": null, \"training_percent\": \"100\", \"start_time\": \"2019-12-02T09:51:41.735803Z\", \"end_time\": \"2019-12-02T09:51:52.646249Z\", \"created_time\": \"2019-12-02T09:51:41.640753Z\", \"created_time_dt\": \"2019-12-02T09:51:41.640753Z\", \"duration\": \"0:00:11\", \"iteration\": \"18\", \"goal\": \"spearman_correlation_max\", \"run_name\": \"StandardScalerWrapper, RandomForest\", \"run_properties\": \"bootstrap=True, criterion='mse', max_depth=None,\\n           max_features=0.6, max_leaf_nodes=None,\\n           min_impurity_decrease=0.0, min_impurity_split=None,\\n           min_samples_leaf=0.0074478228980205795,\\n           min_samples_split=0.0018261584682702607,\\n           min_weight_fraction_leaf=0.0, n_estimators=10, n_jobs=1,\\n           oob_score=False, random_state=None, verbose=0, warm_start=False\", \"primary_metric\": 0.65566157, \"best_metric\": 0.71789607}, {\"run_id\": \"AutoML_c0c5124d-125b-40aa-84e6-28c7bfde1b76_19\", \"run_number\": 21, \"metric\": null, \"status\": \"Completed\", \"run_type\": null, \"training_percent\": \"100\", \"start_time\": \"2019-12-02T09:51:53.651301Z\", \"end_time\": \"2019-12-02T09:52:04.889273Z\", \"created_time\": \"2019-12-02T09:51:53.552079Z\", \"created_time_dt\": \"2019-12-02T09:51:53.552079Z\", \"duration\": \"0:00:11\", \"iteration\": \"19\", \"goal\": \"spearman_correlation_max\", \"run_name\": \"MinMaxScaler, RandomForest\", \"run_properties\": \"bootstrap=True, criterion='mse', max_depth=None,\\n           max_features='log2', max_leaf_nodes=None,\\n           min_impurity_decrease=0.0, min_impurity_split=None,\\n           min_samples_leaf=0.01600296187889058,\\n           min_samples_split=0.15297321160913582,\\n           min_weight_fraction_leaf=0.0, n_estimators=25, n_jobs=1,\\n           oob_score=False, random_state=None, verbose=0, warm_start=False\", \"primary_metric\": 0.68996178, \"best_metric\": 0.71789607}, {\"run_id\": \"AutoML_c0c5124d-125b-40aa-84e6-28c7bfde1b76_20\", \"run_number\": 22, \"metric\": null, \"status\": \"Completed\", \"run_type\": null, \"training_percent\": \"100\", \"start_time\": \"2019-12-02T09:52:06.91767Z\", \"end_time\": \"2019-12-02T09:52:18.004395Z\", \"created_time\": \"2019-12-02T09:52:06.817937Z\", \"created_time_dt\": \"2019-12-02T09:52:06.817937Z\", \"duration\": \"0:00:11\", \"iteration\": \"20\", \"goal\": \"spearman_correlation_max\", \"run_name\": \"StandardScalerWrapper, LassoLars\", \"run_properties\": \"alpha=0.9474210526315789, copy_X=True, eps=2.220446049250313e-16,\\n     fit_intercept=True, fit_path=True, max_iter=500, normalize=False,\\n     positive=False, precompute='auto', verbose=False\", \"primary_metric\": 0.68662648, \"best_metric\": 0.71789607}, {\"run_id\": \"AutoML_c0c5124d-125b-40aa-84e6-28c7bfde1b76_21\", \"run_number\": 23, \"metric\": null, \"status\": \"Completed\", \"run_type\": null, \"training_percent\": \"100\", \"start_time\": \"2019-12-02T09:52:20.159676Z\", \"end_time\": \"2019-12-02T09:52:32.130809Z\", \"created_time\": \"2019-12-02T09:52:20.045197Z\", \"created_time_dt\": \"2019-12-02T09:52:20.045197Z\", \"duration\": \"0:00:12\", \"iteration\": \"21\", \"goal\": \"spearman_correlation_max\", \"run_name\": \"MinMaxScaler, DecisionTree\", \"run_properties\": \"criterion='mae', max_depth=None, max_features=0.3,\\n           max_leaf_nodes=None, min_impurity_decrease=0.0,\\n           min_impurity_split=None, min_samples_leaf=0.03306921600225926,\\n           min_samples_split=0.010734188827013528,\\n           min_weight_fraction_leaf=0.0, presort=False, random_state=None,\\n           splitter='random'\", \"primary_metric\": 0.45881, \"best_metric\": 0.71789607}, {\"run_id\": \"AutoML_c0c5124d-125b-40aa-84e6-28c7bfde1b76_22\", \"run_number\": 24, \"metric\": null, \"status\": \"Completed\", \"run_type\": null, \"training_percent\": \"100\", \"start_time\": \"2019-12-02T09:52:34.289238Z\", \"end_time\": \"2019-12-02T09:52:46.030715Z\", \"created_time\": \"2019-12-02T09:52:34.185789Z\", \"created_time_dt\": \"2019-12-02T09:52:34.185789Z\", \"duration\": \"0:00:11\", \"iteration\": \"22\", \"goal\": \"spearman_correlation_max\", \"run_name\": \"RobustScaler, LightGBM\", \"run_properties\": \"boosting_type='gbdt', class_weight=None,\\n         colsample_bytree=0.8, importance_type='split',\\n         learning_rate=0.11579368421052631, max_bin=1023, max_depth=7,\\n         min_child_samples=15, min_child_weight=0.001, min_split_gain=1,\\n         n_estimators=50, n_jobs=1, num_leaves=63, objective=None,\\n         random_state=None, reg_alpha=0.975, reg_lambda=0.525, silent=True,\\n         subsample=1, subsample_for_bin=200000, subsample_freq=1,\\n         verbose=-1\", \"primary_metric\": 0.6717355, \"best_metric\": 0.71789607}, {\"run_id\": \"AutoML_c0c5124d-125b-40aa-84e6-28c7bfde1b76_23\", \"run_number\": 25, \"metric\": null, \"status\": \"Completed\", \"run_type\": null, \"training_percent\": \"100\", \"start_time\": \"2019-12-02T09:52:48.162947Z\", \"end_time\": \"2019-12-02T09:53:03.651183Z\", \"created_time\": \"2019-12-02T09:52:48.05409Z\", \"created_time_dt\": \"2019-12-02T09:52:48.05409Z\", \"duration\": \"0:00:15\", \"iteration\": \"23\", \"goal\": \"spearman_correlation_max\", \"run_name\": \"MaxAbsScaler, RandomForest\", \"run_properties\": \"bootstrap=False, criterion='mse', max_depth=None,\\n           max_features=None, max_leaf_nodes=None,\\n           min_impurity_decrease=0.0, min_impurity_split=None,\\n           min_samples_leaf=0.0028629618034842247,\\n           min_samples_split=0.015297321160913582,\\n           min_weight_fraction_leaf=0.0, n_estimators=100, n_jobs=1,\\n           oob_score=False, random_state=None, verbose=0, warm_start=False\", \"primary_metric\": 0.49313112, \"best_metric\": 0.71789607}, {\"run_id\": \"AutoML_c0c5124d-125b-40aa-84e6-28c7bfde1b76_24\", \"run_number\": 26, \"metric\": null, \"status\": \"Completed\", \"run_type\": null, \"training_percent\": \"100\", \"start_time\": \"2019-12-02T09:53:04.237747Z\", \"end_time\": \"2019-12-02T09:53:21.608979Z\", \"created_time\": \"2019-12-02T09:53:04.130985Z\", \"created_time_dt\": \"2019-12-02T09:53:04.130985Z\", \"duration\": \"0:00:17\", \"iteration\": \"24\", \"goal\": \"spearman_correlation_max\", \"run_name\": \"VotingEnsemble\", \"run_properties\": \"\", \"primary_metric\": 0.73385161, \"best_metric\": 0.73385161}, {\"run_id\": \"AutoML_c0c5124d-125b-40aa-84e6-28c7bfde1b76_25\", \"run_number\": 27, \"metric\": null, \"status\": \"Completed\", \"run_type\": null, \"training_percent\": \"100\", \"start_time\": \"2019-12-02T09:53:22.225866Z\", \"end_time\": \"2019-12-02T09:53:38.054717Z\", \"created_time\": \"2019-12-02T09:53:22.117405Z\", \"created_time_dt\": \"2019-12-02T09:53:22.117405Z\", \"duration\": \"0:00:15\", \"iteration\": \"25\", \"goal\": \"spearman_correlation_max\", \"run_name\": \"StackEnsemble\", \"run_properties\": \"\", \"primary_metric\": 0.7272698, \"best_metric\": 0.73385161}], \"children_metrics\": {\"categories\": [0], \"series\": {\"mean_absolute_error\": [{\"categories\": [\"0\", \"1\", \"2\", \"3\", \"4\", \"5\", \"6\", \"7\", \"8\", \"9\", \"10\", \"11\", \"12\", \"13\", \"14\", \"15\", \"16\", \"17\", \"18\", \"19\", \"20\", \"21\", \"22\", \"23\", \"24\", \"25\"], \"mode\": \"markers\", \"name\": \"mean_absolute_error\", \"stepped\": false, \"type\": \"scatter\", \"data\": [45.775763640844296, 46.37526197694102, 46.16810107593767, 46.26537926801358, 60.94688128772636, 43.64269151688223, 46.07377506461595, 45.13522288063536, 43.64317641015494, 49.076845070422536, 45.02045149213184, 45.904287150899634, 46.199409643611034, 47.63155583219835, 43.75971153431499, 46.17132219155595, 46.09639523220352, 45.92313556799978, 47.34935165432599, 47.53391426786823, 52.12331536811539, 57.724124748490944, 45.65896184560079, 60.37855690811536, 43.641655133724484, 44.193473518689665]}, {\"categories\": [\"0\", \"1\", \"2\", \"3\", \"4\", \"5\", \"6\", \"7\", \"8\", \"9\", \"10\", \"11\", \"12\", \"13\", \"14\", \"15\", \"16\", \"17\", \"18\", \"19\", \"20\", \"21\", \"22\", \"23\", \"24\", \"25\"], \"mode\": \"lines\", \"name\": \"mean_absolute_error_min\", \"stepped\": true, \"type\": \"scatter\", \"data\": [45.775763640844296, 45.775763640844296, 45.775763640844296, 45.775763640844296, 45.775763640844296, 43.64269151688223, 43.64269151688223, 43.64269151688223, 43.64269151688223, 43.64269151688223, 43.64269151688223, 43.64269151688223, 43.64269151688223, 43.64269151688223, 43.64269151688223, 43.64269151688223, 43.64269151688223, 43.64269151688223, 43.64269151688223, 43.64269151688223, 43.64269151688223, 43.64269151688223, 43.64269151688223, 43.64269151688223, 43.641655133724484, 43.641655133724484]}], \"explained_variance\": [{\"categories\": [\"0\", \"1\", \"2\", \"3\", \"4\", \"5\", \"6\", \"7\", \"8\", \"9\", \"10\", \"11\", \"12\", \"13\", \"14\", \"15\", \"16\", \"17\", \"18\", \"19\", \"20\", \"21\", \"22\", \"23\", \"24\", \"25\"], \"mode\": \"markers\", \"name\": \"explained_variance\", \"stepped\": false, \"type\": \"scatter\", \"data\": [0.5113619252358085, 0.4635069085353193, 0.5002519024782129, 0.493652302869406, 0.034633109072915925, 0.5426379546064684, 0.44642647767713833, 0.5225401895528866, 0.5425941918007008, 0.4255861082355099, 0.5196303834708649, 0.501341530653461, 0.4957586657803189, 0.47607291371068905, 0.543058465737219, 0.511158197761698, 0.49290776109935813, 0.5032731588891094, 0.45305501627376854, 0.48437677942277346, 0.4135474379458507, 0.14802688386296028, 0.459279126959531, 0.07534993187263721, 0.5505165040494532, 0.5465509327267088]}, {\"categories\": [\"0\", \"1\", \"2\", \"3\", \"4\", \"5\", \"6\", \"7\", \"8\", \"9\", \"10\", \"11\", \"12\", \"13\", \"14\", \"15\", \"16\", \"17\", \"18\", \"19\", \"20\", \"21\", \"22\", \"23\", \"24\", \"25\"], \"mode\": \"lines\", \"name\": \"explained_variance_max\", \"stepped\": true, \"type\": \"scatter\", \"data\": [0.5113619252358085, 0.5113619252358085, 0.5113619252358085, 0.5113619252358085, 0.5113619252358085, 0.5426379546064684, 0.5426379546064684, 0.5426379546064684, 0.5426379546064684, 0.5426379546064684, 0.5426379546064684, 0.5426379546064684, 0.5426379546064684, 0.5426379546064684, 0.543058465737219, 0.543058465737219, 0.543058465737219, 0.543058465737219, 0.543058465737219, 0.543058465737219, 0.543058465737219, 0.543058465737219, 0.543058465737219, 0.543058465737219, 0.5505165040494532, 0.5505165040494532]}], \"normalized_root_mean_squared_log_error\": [{\"categories\": [\"0\", \"1\", \"2\", \"3\", \"4\", \"5\", \"6\", \"7\", \"8\", \"9\", \"10\", \"11\", \"12\", \"13\", \"14\", \"15\", \"16\", \"17\", \"18\", \"19\", \"20\", \"21\", \"22\", \"23\", \"24\", \"25\"], \"mode\": \"markers\", \"name\": \"normalized_root_mean_squared_log_error\", \"stepped\": false, \"type\": \"scatter\", \"data\": [0.1649482022130852, 0.1705181985529291, 0.16589490613945562, 0.1680011306249886, 0.22648749381222277, 0.16383568257903186, 0.1679226621532305, 0.16391552905987333, 0.16400361566618155, 0.17711524140991358, 0.16373942567790584, 0.16667138726327643, 0.16641826627970752, 0.17053265523672426, 0.16254665885816807, 0.1663147406203311, 0.16781465684146482, 0.16821884165920278, 0.17139616009683145, 0.16971900854604602, 0.1822172798495153, 0.1988044534357401, 0.17049083887786715, 0.21926160208581308, 0.15939973617365255, 0.16124992134161364]}, {\"categories\": [\"0\", \"1\", \"2\", \"3\", \"4\", \"5\", \"6\", \"7\", \"8\", \"9\", \"10\", \"11\", \"12\", \"13\", \"14\", \"15\", \"16\", \"17\", \"18\", \"19\", \"20\", \"21\", \"22\", \"23\", \"24\", \"25\"], \"mode\": \"lines\", \"name\": \"normalized_root_mean_squared_log_error_min\", \"stepped\": true, \"type\": \"scatter\", \"data\": [0.1649482022130852, 0.1649482022130852, 0.1649482022130852, 0.1649482022130852, 0.1649482022130852, 0.16383568257903186, 0.16383568257903186, 0.16383568257903186, 0.16383568257903186, 0.16383568257903186, 0.16373942567790584, 0.16373942567790584, 0.16373942567790584, 0.16373942567790584, 0.16254665885816807, 0.16254665885816807, 0.16254665885816807, 0.16254665885816807, 0.16254665885816807, 0.16254665885816807, 0.16254665885816807, 0.16254665885816807, 0.16254665885816807, 0.16254665885816807, 0.15939973617365255, 0.15939973617365255]}], \"normalized_median_absolute_error\": [{\"categories\": [\"0\", \"1\", \"2\", \"3\", \"4\", \"5\", \"6\", \"7\", \"8\", \"9\", \"10\", \"11\", \"12\", \"13\", \"14\", \"15\", \"16\", \"17\", \"18\", \"19\", \"20\", \"21\", \"22\", \"23\", \"24\", \"25\"], \"mode\": \"markers\", \"name\": \"normalized_median_absolute_error\", \"stepped\": false, \"type\": \"scatter\", \"data\": [0.13464246474438282, 0.12717724238378442, 0.13116763209230226, 0.1267808359968559, 0.1542056074766355, 0.11751054000640766, 0.1237312599304475, 0.13030695986460145, 0.11734035662501321, 0.13644859813084112, 0.12505095683133063, 0.1318023661177867, 0.1265393430556982, 0.13986744795529843, 0.11974261676740139, 0.13727676006382356, 0.134787885081343, 0.1284865691080554, 0.13277558630362368, 0.14340624213457115, 0.14975720737796464, 0.15186915887850466, 0.12528212819381745, 0.15745119418483902, 0.12165059590457679, 0.12302961943932615]}, {\"categories\": [\"0\", \"1\", \"2\", \"3\", \"4\", \"5\", \"6\", \"7\", \"8\", \"9\", \"10\", \"11\", \"12\", \"13\", \"14\", \"15\", \"16\", \"17\", \"18\", \"19\", \"20\", \"21\", \"22\", \"23\", \"24\", \"25\"], \"mode\": \"lines\", \"name\": \"normalized_median_absolute_error_min\", \"stepped\": true, \"type\": \"scatter\", \"data\": [0.13464246474438282, 0.12717724238378442, 0.12717724238378442, 0.1267808359968559, 0.1267808359968559, 0.11751054000640766, 0.11751054000640766, 0.11751054000640766, 0.11734035662501321, 0.11734035662501321, 0.11734035662501321, 0.11734035662501321, 0.11734035662501321, 0.11734035662501321, 0.11734035662501321, 0.11734035662501321, 0.11734035662501321, 0.11734035662501321, 0.11734035662501321, 0.11734035662501321, 0.11734035662501321, 0.11734035662501321, 0.11734035662501321, 0.11734035662501321, 0.11734035662501321, 0.11734035662501321]}], \"spearman_correlation\": [{\"categories\": [\"0\", \"1\", \"2\", \"3\", \"4\", \"5\", \"6\", \"7\", \"8\", \"9\", \"10\", \"11\", \"12\", \"13\", \"14\", \"15\", \"16\", \"17\", \"18\", \"19\", \"20\", \"21\", \"22\", \"23\", \"24\", \"25\"], \"mode\": \"markers\", \"name\": \"spearman_correlation\", \"stepped\": false, \"type\": \"scatter\", \"data\": [0.7061926014125772, 0.6648335571509433, 0.6909943735051675, 0.6830636781822348, 0.48872419463840905, 0.7176232571297562, 0.6774314996972028, 0.7035198152040523, 0.7178960696394084, 0.6281304721719727, 0.7017850775047123, 0.697460956639496, 0.6898705684771704, 0.6761347925253072, 0.7177189024618246, 0.7080285233057022, 0.6867461058691205, 0.6928869292523452, 0.6556615738415322, 0.6899617819738533, 0.6866264847737503, 0.4588099984210359, 0.6717354962317812, 0.49313111780233215, 0.7338516135740463, 0.7272698010371765]}, {\"categories\": [\"0\", \"1\", \"2\", \"3\", \"4\", \"5\", \"6\", \"7\", \"8\", \"9\", \"10\", \"11\", \"12\", \"13\", \"14\", \"15\", \"16\", \"17\", \"18\", \"19\", \"20\", \"21\", \"22\", \"23\", \"24\", \"25\"], \"mode\": \"lines\", \"name\": \"spearman_correlation_max\", \"stepped\": true, \"type\": \"scatter\", \"data\": [0.7061926014125772, 0.7061926014125772, 0.7061926014125772, 0.7061926014125772, 0.7061926014125772, 0.7176232571297562, 0.7176232571297562, 0.7176232571297562, 0.7178960696394084, 0.7178960696394084, 0.7178960696394084, 0.7178960696394084, 0.7178960696394084, 0.7178960696394084, 0.7178960696394084, 0.7178960696394084, 0.7178960696394084, 0.7178960696394084, 0.7178960696394084, 0.7178960696394084, 0.7178960696394084, 0.7178960696394084, 0.7178960696394084, 0.7178960696394084, 0.7338516135740463, 0.7338516135740463]}], \"normalized_mean_absolute_error\": [{\"categories\": [\"0\", \"1\", \"2\", \"3\", \"4\", \"5\", \"6\", \"7\", \"8\", \"9\", \"10\", \"11\", \"12\", \"13\", \"14\", \"15\", \"16\", \"17\", \"18\", \"19\", \"20\", \"21\", \"22\", \"23\", \"24\", \"25\"], \"mode\": \"markers\", \"name\": \"normalized_mean_absolute_error\", \"stepped\": false, \"type\": \"scatter\", \"data\": [0.14260362504935917, 0.14447122111196578, 0.1438258600496501, 0.14412890737698936, 0.18986567379354008, 0.13595854055103498, 0.14353200954709017, 0.1406081709677114, 0.135960051121978, 0.15288736782063095, 0.14025062770134528, 0.14300400981588673, 0.14392339452838326, 0.1483849091345743, 0.136323088891947, 0.1438358946777444, 0.14360247735888948, 0.14306272762616756, 0.14750576839353893, 0.1480807298064431, 0.16237792949568655, 0.17982593379592196, 0.14223975652835136, 0.18809519286017246, 0.13595531194306693, 0.13767437233236654]}, {\"categories\": [\"0\", \"1\", \"2\", \"3\", \"4\", \"5\", \"6\", \"7\", \"8\", \"9\", \"10\", \"11\", \"12\", \"13\", \"14\", \"15\", \"16\", \"17\", \"18\", \"19\", \"20\", \"21\", \"22\", \"23\", \"24\", \"25\"], \"mode\": \"lines\", \"name\": \"normalized_mean_absolute_error_min\", \"stepped\": true, \"type\": \"scatter\", \"data\": [0.14260362504935917, 0.14260362504935917, 0.14260362504935917, 0.14260362504935917, 0.14260362504935917, 0.13595854055103498, 0.13595854055103498, 0.13595854055103498, 0.13595854055103498, 0.13595854055103498, 0.13595854055103498, 0.13595854055103498, 0.13595854055103498, 0.13595854055103498, 0.13595854055103498, 0.13595854055103498, 0.13595854055103498, 0.13595854055103498, 0.13595854055103498, 0.13595854055103498, 0.13595854055103498, 0.13595854055103498, 0.13595854055103498, 0.13595854055103498, 0.13595531194306693, 0.13595531194306693]}], \"root_mean_squared_error\": [{\"categories\": [\"0\", \"1\", \"2\", \"3\", \"4\", \"5\", \"6\", \"7\", \"8\", \"9\", \"10\", \"11\", \"12\", \"13\", \"14\", \"15\", \"16\", \"17\", \"18\", \"19\", \"20\", \"21\", \"22\", \"23\", \"24\", \"25\"], \"mode\": \"markers\", \"name\": \"root_mean_squared_error\", \"stepped\": false, \"type\": \"scatter\", \"data\": [55.129347616862354, 57.68383029785571, 55.85989831127499, 56.21894333944429, 77.14922503785795, 53.30774625913799, 58.354464868731746, 54.619350230115664, 53.30311523937557, 59.77665493514799, 54.655295460655225, 55.606975159172386, 56.10800130645002, 56.792228375568115, 53.34864528217948, 54.83217085637398, 56.292507599704834, 55.22121356957473, 58.28571535157712, 56.528991505483, 60.569520577980484, 72.52528143410379, 57.81484690270636, 75.46962970293801, 52.850137385580524, 53.66207232801141]}, {\"categories\": [\"0\", \"1\", \"2\", \"3\", \"4\", \"5\", \"6\", \"7\", \"8\", \"9\", \"10\", \"11\", \"12\", \"13\", \"14\", \"15\", \"16\", \"17\", \"18\", \"19\", \"20\", \"21\", \"22\", \"23\", \"24\", \"25\"], \"mode\": \"lines\", \"name\": \"root_mean_squared_error_min\", \"stepped\": true, \"type\": \"scatter\", \"data\": [55.129347616862354, 55.129347616862354, 55.129347616862354, 55.129347616862354, 55.129347616862354, 53.30774625913799, 53.30774625913799, 53.30774625913799, 53.30311523937557, 53.30311523937557, 53.30311523937557, 53.30311523937557, 53.30311523937557, 53.30311523937557, 53.30311523937557, 53.30311523937557, 53.30311523937557, 53.30311523937557, 53.30311523937557, 53.30311523937557, 53.30311523937557, 53.30311523937557, 53.30311523937557, 53.30311523937557, 52.850137385580524, 52.850137385580524]}], \"r2_score\": [{\"categories\": [\"0\", \"1\", \"2\", \"3\", \"4\", \"5\", \"6\", \"7\", \"8\", \"9\", \"10\", \"11\", \"12\", \"13\", \"14\", \"15\", \"16\", \"17\", \"18\", \"19\", \"20\", \"21\", \"22\", \"23\", \"24\", \"25\"], \"mode\": \"markers\", \"name\": \"r2_score\", \"stepped\": false, \"type\": \"scatter\", \"data\": [0.4915344724903597, 0.4399297277490949, 0.47630366360422577, 0.46970483524460854, 0.006276232312929908, 0.5239837867384407, 0.4285400880219977, 0.5003920698302323, 0.5240846272619606, 0.40196426038130645, 0.4997007521086596, 0.4805322336637007, 0.47355313010805655, 0.4598285129565164, 0.5231140781361738, 0.49627251163052755, 0.46857538966566903, 0.4892411634993737, 0.42951871084574555, 0.46553020498935493, 0.38772117813817353, 0.12190318153549813, 0.4402510479162708, 0.04813303096127188, 0.5321705434947959, 0.5175134784568332]}, {\"categories\": [\"0\", \"1\", \"2\", \"3\", \"4\", \"5\", \"6\", \"7\", \"8\", \"9\", \"10\", \"11\", \"12\", \"13\", \"14\", \"15\", \"16\", \"17\", \"18\", \"19\", \"20\", \"21\", \"22\", \"23\", \"24\", \"25\"], \"mode\": \"lines\", \"name\": \"r2_score_max\", \"stepped\": true, \"type\": \"scatter\", \"data\": [0.4915344724903597, 0.4915344724903597, 0.4915344724903597, 0.4915344724903597, 0.4915344724903597, 0.5239837867384407, 0.5239837867384407, 0.5239837867384407, 0.5240846272619606, 0.5240846272619606, 0.5240846272619606, 0.5240846272619606, 0.5240846272619606, 0.5240846272619606, 0.5240846272619606, 0.5240846272619606, 0.5240846272619606, 0.5240846272619606, 0.5240846272619606, 0.5240846272619606, 0.5240846272619606, 0.5240846272619606, 0.5240846272619606, 0.5240846272619606, 0.5321705434947959, 0.5321705434947959]}], \"mean_absolute_percentage_error\": [{\"categories\": [\"0\", \"1\", \"2\", \"3\", \"4\", \"5\", \"6\", \"7\", \"8\", \"9\", \"10\", \"11\", \"12\", \"13\", \"14\", \"15\", \"16\", \"17\", \"18\", \"19\", \"20\", \"21\", \"22\", \"23\", \"24\", \"25\"], \"mode\": \"markers\", \"name\": \"mean_absolute_percentage_error\", \"stepped\": false, \"type\": \"scatter\", \"data\": [41.543312922330486, 41.62788079041543, 40.99781541562653, 42.15438054717965, 52.23522514733528, 39.889310203963625, 39.96303455940697, 40.67775948289055, 39.900794459373884, 44.16022299853173, 40.41495012359625, 41.68815585818512, 41.079821944604724, 43.60237942320466, 39.862482003600704, 42.56055323862786, 41.85403843893518, 41.366276993142414, 41.61714923345568, 43.7846443680598, 49.066200055587686, 48.62048886998819, 40.035868546032496, 52.24708238160356, 39.551662223530855, 39.97733523837529]}, {\"categories\": [\"0\", \"1\", \"2\", \"3\", \"4\", \"5\", \"6\", \"7\", \"8\", \"9\", \"10\", \"11\", \"12\", \"13\", \"14\", \"15\", \"16\", \"17\", \"18\", \"19\", \"20\", \"21\", \"22\", \"23\", \"24\", \"25\"], \"mode\": \"lines\", \"name\": \"mean_absolute_percentage_error_min\", \"stepped\": true, \"type\": \"scatter\", \"data\": [41.543312922330486, 41.543312922330486, 40.99781541562653, 40.99781541562653, 40.99781541562653, 39.889310203963625, 39.889310203963625, 39.889310203963625, 39.889310203963625, 39.889310203963625, 39.889310203963625, 39.889310203963625, 39.889310203963625, 39.889310203963625, 39.862482003600704, 39.862482003600704, 39.862482003600704, 39.862482003600704, 39.862482003600704, 39.862482003600704, 39.862482003600704, 39.862482003600704, 39.862482003600704, 39.862482003600704, 39.551662223530855, 39.551662223530855]}], \"normalized_root_mean_squared_error\": [{\"categories\": [\"0\", \"1\", \"2\", \"3\", \"4\", \"5\", \"6\", \"7\", \"8\", \"9\", \"10\", \"11\", \"12\", \"13\", \"14\", \"15\", \"16\", \"17\", \"18\", \"19\", \"20\", \"21\", \"22\", \"23\", \"24\", \"25\"], \"mode\": \"markers\", \"name\": \"normalized_root_mean_squared_error\", \"stepped\": false, \"type\": \"scatter\", \"data\": [0.1717425159403812, 0.1797004059123231, 0.17401837480147972, 0.1751368951384557, 0.24034026491544536, 0.16606774535557003, 0.18178961018296494, 0.17015373903462824, 0.16605331850272761, 0.1862201088322367, 0.1702657179459664, 0.17323045220925978, 0.17479128132850472, 0.1769228298304303, 0.1661951566423037, 0.17081673163979433, 0.17536606728880008, 0.1720287027089555, 0.18157543723232747, 0.17610277727564796, 0.18869009525850616, 0.22593545618100874, 0.1801085573293033, 0.23510788069451088, 0.1646421725407493, 0.16717156488477078]}, {\"categories\": [\"0\", \"1\", \"2\", \"3\", \"4\", \"5\", \"6\", \"7\", \"8\", \"9\", \"10\", \"11\", \"12\", \"13\", \"14\", \"15\", \"16\", \"17\", \"18\", \"19\", \"20\", \"21\", \"22\", \"23\", \"24\", \"25\"], \"mode\": \"lines\", \"name\": \"normalized_root_mean_squared_error_min\", \"stepped\": true, \"type\": \"scatter\", \"data\": [0.1717425159403812, 0.1717425159403812, 0.1717425159403812, 0.1717425159403812, 0.1717425159403812, 0.16606774535557003, 0.16606774535557003, 0.16606774535557003, 0.16605331850272761, 0.16605331850272761, 0.16605331850272761, 0.16605331850272761, 0.16605331850272761, 0.16605331850272761, 0.16605331850272761, 0.16605331850272761, 0.16605331850272761, 0.16605331850272761, 0.16605331850272761, 0.16605331850272761, 0.16605331850272761, 0.16605331850272761, 0.16605331850272761, 0.16605331850272761, 0.1646421725407493, 0.1646421725407493]}], \"root_mean_squared_log_error\": [{\"categories\": [\"0\", \"1\", \"2\", \"3\", \"4\", \"5\", \"6\", \"7\", \"8\", \"9\", \"10\", \"11\", \"12\", \"13\", \"14\", \"15\", \"16\", \"17\", \"18\", \"19\", \"20\", \"21\", \"22\", \"23\", \"24\", \"25\"], \"mode\": \"markers\", \"name\": \"root_mean_squared_log_error\", \"stepped\": false, \"type\": \"scatter\", \"data\": [0.42741844002936447, 0.4418515718525889, 0.42987156598011705, 0.4353292743508647, 0.5868807904091307, 0.42453564773390884, 0.4351259446307446, 0.4247425481900836, 0.4249708006920848, 0.45894601561679915, 0.4242862241332309, 0.43188360579748347, 0.43122771155623585, 0.4418890324199235, 0.4211954930638949, 0.4309594529438957, 0.43484607821661936, 0.4358934133312994, 0.44412657060047306, 0.43978068813608895, 0.472166561712884, 0.5151477143632283, 0.4417806766898785, 0.568156855694563, 0.41304109812862266, 0.4178353501886349]}, {\"categories\": [\"0\", \"1\", \"2\", \"3\", \"4\", \"5\", \"6\", \"7\", \"8\", \"9\", \"10\", \"11\", \"12\", \"13\", \"14\", \"15\", \"16\", \"17\", \"18\", \"19\", \"20\", \"21\", \"22\", \"23\", \"24\", \"25\"], \"mode\": \"lines\", \"name\": \"root_mean_squared_log_error_min\", \"stepped\": true, \"type\": \"scatter\", \"data\": [0.42741844002936447, 0.42741844002936447, 0.42741844002936447, 0.42741844002936447, 0.42741844002936447, 0.42453564773390884, 0.42453564773390884, 0.42453564773390884, 0.42453564773390884, 0.42453564773390884, 0.4242862241332309, 0.4242862241332309, 0.4242862241332309, 0.4242862241332309, 0.4211954930638949, 0.4211954930638949, 0.4211954930638949, 0.4211954930638949, 0.4211954930638949, 0.4211954930638949, 0.4211954930638949, 0.4211954930638949, 0.4211954930638949, 0.4211954930638949, 0.41304109812862266, 0.41304109812862266]}], \"median_absolute_error\": [{\"categories\": [\"0\", \"1\", \"2\", \"3\", \"4\", \"5\", \"6\", \"7\", \"8\", \"9\", \"10\", \"11\", \"12\", \"13\", \"14\", \"15\", \"16\", \"17\", \"18\", \"19\", \"20\", \"21\", \"22\", \"23\", \"24\", \"25\"], \"mode\": \"markers\", \"name\": \"median_absolute_error\", \"stepped\": false, \"type\": \"scatter\", \"data\": [43.220231182946875, 40.8238948051948, 42.104809901629025, 40.69664835499074, 49.5, 37.72088334205685, 39.717734437673656, 41.828534116537064, 37.666254476629234, 43.8, 40.14135714285713, 42.308559523809535, 40.61912912087912, 44.8974507936508, 38.437379982335855, 44.065839980487354, 43.266911111111106, 41.24418868368578, 42.620963203463205, 46.03340372519734, 48.07206356832664, 48.75, 40.2155631502154, 50.541833333333315, 39.04984128536915, 39.492507840023706]}, {\"categories\": [\"0\", \"1\", \"2\", \"3\", \"4\", \"5\", \"6\", \"7\", \"8\", \"9\", \"10\", \"11\", \"12\", \"13\", \"14\", \"15\", \"16\", \"17\", \"18\", \"19\", \"20\", \"21\", \"22\", \"23\", \"24\", \"25\"], \"mode\": \"lines\", \"name\": \"median_absolute_error_min\", \"stepped\": true, \"type\": \"scatter\", \"data\": [43.220231182946875, 40.8238948051948, 40.8238948051948, 40.69664835499074, 40.69664835499074, 37.72088334205685, 37.72088334205685, 37.72088334205685, 37.666254476629234, 37.666254476629234, 37.666254476629234, 37.666254476629234, 37.666254476629234, 37.666254476629234, 37.666254476629234, 37.666254476629234, 37.666254476629234, 37.666254476629234, 37.666254476629234, 37.666254476629234, 37.666254476629234, 37.666254476629234, 37.666254476629234, 37.666254476629234, 37.666254476629234, 37.666254476629234]}]}, \"metricName\": null, \"primaryMetricName\": \"spearman_correlation\", \"showLegend\": false}, \"run_metrics\": [], \"run_logs\": \"\\nRun is completed.\", \"graph\": {}, \"widget_settings\": {\"childWidgetDisplay\": \"popup\", \"send_telemetry\": false, \"log_level\": \"INFO\", \"sdk_version\": \"1.0.74\"}, \"loading\": false}"
     },
     "metadata": {},
     "output_type": "display_data"
    }
   ],
   "source": [
    "from azureml.widgets import RunDetails\n",
    "RunDetails(local_run).show() "
   ]
  },
  {
   "cell_type": "markdown",
   "metadata": {},
   "source": [
    "## Autre AutoML"
   ]
  },
  {
   "cell_type": "markdown",
   "metadata": {},
   "source": [
    "> Avec cette fois un changement de métrique, ajout d'une whiteliste, compatibilité ONNX, pas de méthodes ensembles et un score de sortie et 20 itérations au max.\n",
    "https://docs.microsoft.com/en-us/python/api/azureml-train-automl/azureml.train.automl.automlconfig?view=azure-ml-py"
   ]
  },
  {
   "cell_type": "code",
   "execution_count": 12,
   "metadata": {},
   "outputs": [
    {
     "name": "stderr",
     "output_type": "stream",
     "text": [
      "WARNING - The AutoMLConfig inputs you have specified will soon be deprecated. Please use the AutoMLConfig shown in our documentation: https://aka.ms/AutoMLConfig\n"
     ]
    }
   ],
   "source": [
    "automl_config = AutoMLConfig(task = 'regression',\n",
    "                             iteration_timeout_minutes = 5,\n",
    "                             iterations = 10, # nombre itérations au max\n",
    "                             primary_metric = 'spearman_correlation',\n",
    "                             n_cross_validations = 5,\n",
    "                             debug_log = 'automl2.log',\n",
    "                             verbosity = logging.INFO,\n",
    "                             whitelist_models = [\"LightGBM\", \"RandomForest\"], # Whiteliste de modèles à évaluer\n",
    "                             experiment_exit_score = 0.7, # Score de sortie de la métrique\n",
    "                             enable_onnx_compatible_models=True, # Modèles compatibles ONNX\n",
    "                             enable_stack_ensemble=False, # Pas de méthode stack ensemble\n",
    "                             enable_voting_ensemble=False, # Pase de méthode vote ensemble\n",
    "                             X = X_train, \n",
    "                             y = y_train,\n",
    "                             path = project_folder)"
   ]
  },
  {
   "cell_type": "code",
   "execution_count": 13,
   "metadata": {},
   "outputs": [
    {
     "name": "stdout",
     "output_type": "stream",
     "text": [
      "Running on local machine\n",
      "Parent Run ID: AutoML_b2ef851b-df05-4965-8aff-e6a261f92726\n",
      "Current status: DatasetCrossValidationSplit. Generating CV splits.\n",
      "Current status: ModelSelection. Beginning model selection.\n",
      "\n",
      "****************************************************************************************************\n",
      "ITERATION: The iteration being evaluated.\n",
      "PIPELINE: A summary description of the pipeline being evaluated.\n",
      "DURATION: Time taken for the current iteration.\n",
      "METRIC: The result of computing score on the fitted pipeline.\n",
      "BEST: The best observed score thus far.\n",
      "****************************************************************************************************\n",
      "\n",
      " ITERATION   PIPELINE                                       DURATION      METRIC      BEST\n",
      "         0   StandardScalerWrapper RandomForest             0:00:11       0.6980    0.6980\n",
      "         1   MinMaxScaler RandomForest                      0:00:12       0.6690    0.6980\n",
      "         2   StandardScalerWrapper LightGBM                 0:00:12       0.6831    0.6980\n",
      "         3   StandardScalerWrapper LightGBM                 0:00:12       0.6774    0.6980\n",
      "         4   StandardScalerWrapper RandomForest             0:00:12       0.7008    0.7008\n",
      "Stopping criteria reached at iteration 4. Ending experiment.\n",
      "CPU times: user 4.63 s, sys: 565 ms, total: 5.2 s\n",
      "Wall time: 1min 7s\n"
     ]
    }
   ],
   "source": [
    "%%time\n",
    "local_run = experiment.submit(automl_config, show_output = True)"
   ]
  },
  {
   "cell_type": "code",
   "execution_count": 14,
   "metadata": {},
   "outputs": [
    {
     "data": {
      "text/html": [
       "<table style=\"width:100%\"><tr><th>Experiment</th><th>Id</th><th>Type</th><th>Status</th><th>Details Page</th><th>Docs Page</th></tr><tr><td>workshop3-automlregression</td><td>AutoML_b2ef851b-df05-4965-8aff-e6a261f92726</td><td>automl</td><td>Running</td><td><a href=\"https://ml.azure.com/experiments/workshop3-automlregression/runs/AutoML_b2ef851b-df05-4965-8aff-e6a261f92726?wsid=/subscriptions/70b8f39e-8863-49f7-b6ba-34a80799550c/resourcegroups/workshopmlRG/workspaces/workshopml\" target=\"_blank\" rel=\"noopener\">Link to Azure Machine Learning studio</a></td><td><a href=\"https://docs.microsoft.com/en-us/python/api/overview/azure/ml/intro?view=azure-ml-py\" target=\"_blank\" rel=\"noopener\">Link to Documentation</a></td></tr></table>"
      ],
      "text/plain": [
       "Run(Experiment: workshop3-automlregression,\n",
       "Id: AutoML_b2ef851b-df05-4965-8aff-e6a261f92726,\n",
       "Type: automl,\n",
       "Status: Running)"
      ]
     },
     "execution_count": 14,
     "metadata": {},
     "output_type": "execute_result"
    }
   ],
   "source": [
    "local_run"
   ]
  },
  {
   "cell_type": "markdown",
   "metadata": {},
   "source": [
    "## 5. Exploration des résultats"
   ]
  },
  {
   "cell_type": "markdown",
   "metadata": {},
   "source": [
    "### 5.1 Widget Notebook\n",
    "\n",
    "The widget will first report a \"loading\" status while running the first iteration. After completing the first iteration, an auto-updating graph and table will be shown. The widget will refresh once per minute, so you should see the graph update as child runs complete.\n",
    "\n",
    "**Note:** The widget displays a link at the bottom. Use this link to open a web interface to explore the individual run details."
   ]
  },
  {
   "cell_type": "code",
   "execution_count": 15,
   "metadata": {},
   "outputs": [
    {
     "data": {
      "application/vnd.jupyter.widget-view+json": {
       "model_id": "ef547e69efaf40828450eb9f2b08c87c",
       "version_major": 2,
       "version_minor": 0
      },
      "text/plain": [
       "_AutoMLWidget(widget_settings={'childWidgetDisplay': 'popup', 'send_telemetry': False, 'log_level': 'INFO', 's…"
      ]
     },
     "metadata": {},
     "output_type": "display_data"
    },
    {
     "data": {
      "application/aml.mini.widget.v1": "{\"status\": \"Completed\", \"workbench_run_details_uri\": \"https://ml.azure.com/experiments/workshop3-automlregression/runs/AutoML_b2ef851b-df05-4965-8aff-e6a261f92726?wsid=/subscriptions/70b8f39e-8863-49f7-b6ba-34a80799550c/resourcegroups/workshopmlRG/workspaces/workshopml\", \"run_id\": \"AutoML_b2ef851b-df05-4965-8aff-e6a261f92726\", \"run_properties\": {\"run_id\": \"AutoML_b2ef851b-df05-4965-8aff-e6a261f92726\", \"created_utc\": \"2019-12-02T09:56:08.798411Z\", \"properties\": {\"num_iterations\": \"10\", \"training_type\": \"TrainFull\", \"acquisition_function\": \"EI\", \"primary_metric\": \"spearman_correlation\", \"train_split\": \"0\", \"MaxTimeSeconds\": \"300\", \"acquisition_parameter\": \"0\", \"num_cross_validation\": \"5\", \"target\": \"local\", \"RawAMLSettingsString\": \"{'name': 'workshop3-automlregression', 'path': './sample_projects/workshop3', 'subscription_id': '70b8f39e-8863-49f7-b6ba-34a80799550c', 'resource_group': 'workshopmlRG', 'workspace_name': 'workshopml', 'region': 'northeurope', 'compute_target': 'local', 'spark_service': None, 'azure_service': None, 'iterations': 10, 'primary_metric': 'spearman_correlation', 'task_type': 'regression', 'data_script': None, 'validation_size': 0.0, 'n_cross_validations': 5, 'y_min': 25.0, 'y_max': 346.0, 'num_classes': None, 'featurization': 'off', 'preprocess': False, 'lag_length': 0, 'is_timeseries': False, 'max_cores_per_iteration': 1, 'max_concurrent_iterations': 1, 'iteration_timeout_minutes': 5, 'mem_in_mb': None, 'enforce_time_on_windows': False, 'experiment_timeout_minutes': None, 'experiment_exit_score': 0.7, 'whitelist_models': ['LightGBM', 'RandomForest'], 'blacklist_algos': ['XGBoostRegressor', 'Prophet'], 'supported_models': ['DecisionTree', 'ElasticNet', 'LassoLars', 'GradientBoosting', 'LightGBM', 'FastLinearRegressor', 'OnlineGradientDescentRegressor', 'XGBoostRegressor', 'ExtremeRandomTrees', 'RandomForest', 'KNN', 'TensorFlowLinearRegressor', 'TensorFlowDNN', 'SGD'], 'auto_blacklist': True, 'blacklist_samples_reached': False, 'exclude_nan_labels': True, 'verbosity': 20, 'debug_log': 'automl2.log', 'show_warnings': False, 'model_explainability': False, 'service_url': None, 'sdk_url': None, 'sdk_packages': None, 'enable_onnx_compatible_models': True, 'enable_split_onnx_featurizer_estimator_models': False, 'vm_type': None, 'telemetry_verbosity': 'INFO', 'send_telemetry': True, 'enable_dnn': False, 'enable_feature_sweeping': False, 'enable_early_stopping': False, 'early_stopping_n_iters': 10, 'metrics': None, 'enable_ensembling': False, 'enable_stack_ensembling': False, 'ensemble_iterations': 10, 'enable_tf': False, 'enable_cache': True, 'enable_subsampling': False, 'subsample_seed': None, 'enable_nimbusml': False, 'enable_streaming': False, 'label_column_name': None, 'weight_column_name': None, 'cost_mode': 0, 'metric_operation': 'maximize'}\", \"AMLSettingsJsonString\": \"{\\\"name\\\":\\\"workshop3-automlregression\\\",\\\"path\\\":\\\"./sample_projects/workshop3\\\",\\\"subscription_id\\\":\\\"70b8f39e-8863-49f7-b6ba-34a80799550c\\\",\\\"resource_group\\\":\\\"workshopmlRG\\\",\\\"workspace_name\\\":\\\"workshopml\\\",\\\"region\\\":\\\"northeurope\\\",\\\"compute_target\\\":\\\"local\\\",\\\"spark_service\\\":null,\\\"azure_service\\\":null,\\\"iterations\\\":10,\\\"primary_metric\\\":\\\"spearman_correlation\\\",\\\"task_type\\\":\\\"regression\\\",\\\"data_script\\\":null,\\\"validation_size\\\":0.0,\\\"n_cross_validations\\\":5,\\\"y_min\\\":25.0,\\\"y_max\\\":346.0,\\\"num_classes\\\":null,\\\"featurization\\\":\\\"off\\\",\\\"preprocess\\\":false,\\\"lag_length\\\":0,\\\"is_timeseries\\\":false,\\\"max_cores_per_iteration\\\":1,\\\"max_concurrent_iterations\\\":1,\\\"iteration_timeout_minutes\\\":5,\\\"mem_in_mb\\\":null,\\\"enforce_time_on_windows\\\":false,\\\"experiment_timeout_minutes\\\":null,\\\"experiment_exit_score\\\":0.7,\\\"whitelist_models\\\":[\\\"LightGBM\\\",\\\"RandomForest\\\"],\\\"blacklist_algos\\\":[\\\"XGBoostRegressor\\\",\\\"Prophet\\\",\\\"AutoArima\\\"],\\\"supported_models\\\":[\\\"DecisionTree\\\",\\\"ElasticNet\\\",\\\"LassoLars\\\",\\\"GradientBoosting\\\",\\\"LightGBM\\\",\\\"FastLinearRegressor\\\",\\\"OnlineGradientDescentRegressor\\\",\\\"XGBoostRegressor\\\",\\\"ExtremeRandomTrees\\\",\\\"RandomForest\\\",\\\"KNN\\\",\\\"TensorFlowLinearRegressor\\\",\\\"TensorFlowDNN\\\",\\\"SGD\\\"],\\\"auto_blacklist\\\":true,\\\"blacklist_samples_reached\\\":false,\\\"exclude_nan_labels\\\":true,\\\"verbosity\\\":20,\\\"debug_log\\\":\\\"automl2.log\\\",\\\"show_warnings\\\":false,\\\"model_explainability\\\":false,\\\"service_url\\\":null,\\\"sdk_url\\\":null,\\\"sdk_packages\\\":null,\\\"enable_onnx_compatible_models\\\":true,\\\"enable_split_onnx_featurizer_estimator_models\\\":false,\\\"vm_type\\\":null,\\\"telemetry_verbosity\\\":\\\"INFO\\\",\\\"send_telemetry\\\":true,\\\"enable_dnn\\\":false,\\\"enable_feature_sweeping\\\":false,\\\"enable_early_stopping\\\":false,\\\"early_stopping_n_iters\\\":10,\\\"metrics\\\":null,\\\"enable_ensembling\\\":false,\\\"enable_stack_ensembling\\\":false,\\\"ensemble_iterations\\\":10,\\\"enable_tf\\\":false,\\\"enable_cache\\\":true,\\\"enable_subsampling\\\":false,\\\"subsample_seed\\\":null,\\\"enable_nimbusml\\\":false,\\\"enable_streaming\\\":false,\\\"label_column_name\\\":null,\\\"weight_column_name\\\":null,\\\"cost_mode\\\":0,\\\"metric_operation\\\":\\\"maximize\\\"}\", \"DataPrepJsonString\": null, \"EnableSubsampling\": \"False\", \"runTemplate\": \"AutoML\", \"azureml.runsource\": \"automl\", \"display_task_type\": \"regression\", \"dependencies_versions\": \"{\\\"azureml-widgets\\\": \\\"1.0.74\\\", \\\"azureml-train\\\": \\\"1.0.74\\\", \\\"azureml-train-restclients-hyperdrive\\\": \\\"1.0.74\\\", \\\"azureml-train-core\\\": \\\"1.0.74\\\", \\\"azureml-train-automl\\\": \\\"1.0.74\\\", \\\"azureml-tensorboard\\\": \\\"1.0.74\\\", \\\"azureml-telemetry\\\": \\\"1.0.74\\\", \\\"azureml-sdk\\\": \\\"1.0.74\\\", \\\"azureml-samples\\\": \\\"0+unknown\\\", \\\"azureml-pipeline\\\": \\\"1.0.74\\\", \\\"azureml-pipeline-steps\\\": \\\"1.0.74\\\", \\\"azureml-pipeline-core\\\": \\\"1.0.74\\\", \\\"azureml-opendatasets\\\": \\\"1.0.74\\\", \\\"azureml-model-management-sdk\\\": \\\"1.0.1b6.post1\\\", \\\"azureml-mlflow\\\": \\\"1.0.74\\\", \\\"azureml-interpret\\\": \\\"1.0.74\\\", \\\"azureml-explain-model\\\": \\\"1.0.74\\\", \\\"azureml-defaults\\\": \\\"1.0.74\\\", \\\"azureml-dataprep\\\": \\\"1.1.30\\\", \\\"azureml-dataprep-native\\\": \\\"13.1.0\\\", \\\"azureml-datadrift\\\": \\\"1.0.74\\\", \\\"azureml-core\\\": \\\"1.0.74\\\", \\\"azureml-contrib-services\\\": \\\"1.0.74\\\", \\\"azureml-contrib-server\\\": \\\"1.0.74\\\", \\\"azureml-contrib-reinforcementlearning\\\": \\\"0.1.0.5919674\\\", \\\"azureml-contrib-opendatasets\\\": \\\"1.0.45\\\", \\\"azureml-contrib-notebook\\\": \\\"1.0.74\\\", \\\"azureml-contrib-interpret\\\": \\\"1.0.74\\\", \\\"azureml-contrib-datadrift\\\": \\\"1.0.74\\\", \\\"azureml-automl-core\\\": \\\"1.0.74\\\"}\", \"ProblemInfoJsonString\": \"{\\\"dataset_num_categorical\\\": 0, \\\"is_sparse\\\": false, \\\"subsampling\\\": false, \\\"dataset_classes\\\": 194, \\\"dataset_features\\\": 10, \\\"dataset_samples\\\": 353, \\\"single_frequency_class_detected\\\": false}\"}, \"tags\": {\"model_explain_run\": \"best_run\", \"experiment_status\": \"ModelSelection\", \"experiment_status_descr\": \"Beginning model selection.\"}, \"end_time_utc\": \"2019-12-02T09:57:12.265279Z\", \"status\": \"Completed\", \"log_files\": {}, \"log_groups\": [], \"run_duration\": \"0:01:03\"}, \"child_runs\": [{\"run_id\": \"AutoML_b2ef851b-df05-4965-8aff-e6a261f92726_0\", \"run_number\": 29, \"metric\": null, \"status\": \"Completed\", \"run_type\": null, \"training_percent\": \"100\", \"start_time\": \"2019-12-02T09:56:10.553467Z\", \"end_time\": \"2019-12-02T09:56:21.383437Z\", \"created_time\": \"2019-12-02T09:56:10.459216Z\", \"created_time_dt\": \"2019-12-02T09:56:10.459216Z\", \"duration\": \"0:00:10\", \"iteration\": \"0\", \"goal\": \"spearman_correlation_max\", \"run_name\": \"StandardScalerWrapper, RandomForest\", \"run_properties\": \"bootstrap=False, criterion='mse', max_depth=None,\\n           max_features='sqrt', max_leaf_nodes=None,\\n           min_impurity_decrease=0.0, min_impurity_split=None,\\n           min_samples_leaf=0.05040306135985514,\\n           min_samples_split=0.002602463309528381,\\n           min_weight_fraction_leaf=0.0, n_estimators=25, n_jobs=1,\\n           oob_score=False, random_state=None, verbose=0, warm_start=False\", \"primary_metric\": 0.69796696, \"best_metric\": 0.69796696}, {\"run_id\": \"AutoML_b2ef851b-df05-4965-8aff-e6a261f92726_1\", \"run_number\": 30, \"metric\": null, \"status\": \"Completed\", \"run_type\": null, \"training_percent\": \"100\", \"start_time\": \"2019-12-02T09:56:22.447592Z\", \"end_time\": \"2019-12-02T09:56:33.604663Z\", \"created_time\": \"2019-12-02T09:56:22.341616Z\", \"created_time_dt\": \"2019-12-02T09:56:22.341616Z\", \"duration\": \"0:00:11\", \"iteration\": \"1\", \"goal\": \"spearman_correlation_max\", \"run_name\": \"MinMaxScaler, RandomForest\", \"run_properties\": \"bootstrap=True, criterion='mse', max_depth=None,\\n           max_features=0.9, max_leaf_nodes=None,\\n           min_impurity_decrease=0.0, min_impurity_split=None,\\n           min_samples_leaf=0.006151578686713196,\\n           min_samples_split=0.010734188827013528,\\n           min_weight_fraction_leaf=0.0, n_estimators=25, n_jobs=1,\\n           oob_score=False, random_state=None, verbose=0, warm_start=False\", \"primary_metric\": 0.66897639, \"best_metric\": 0.69796696}, {\"run_id\": \"AutoML_b2ef851b-df05-4965-8aff-e6a261f92726_2\", \"run_number\": 31, \"metric\": null, \"status\": \"Completed\", \"run_type\": null, \"training_percent\": \"100\", \"start_time\": \"2019-12-02T09:56:34.644077Z\", \"end_time\": \"2019-12-02T09:56:45.953952Z\", \"created_time\": \"2019-12-02T09:56:34.539183Z\", \"created_time_dt\": \"2019-12-02T09:56:34.539183Z\", \"duration\": \"0:00:11\", \"iteration\": \"2\", \"goal\": \"spearman_correlation_max\", \"run_name\": \"StandardScalerWrapper, LightGBM\", \"run_properties\": \"boosting_type='gbdt', class_weight=None, colsample_bytree=1,\\n         importance_type='split', learning_rate=0.12631947368421054,\\n         max_bin=63, max_depth=5, min_child_samples=11,\\n         min_child_weight=0.001, min_split_gain=0.8421052631578947,\\n         n_estimators=25, n_jobs=1, num_leaves=3, objective=None,\\n         random_state=None, reg_alpha=0.3, reg_lambda=0.15, silent=True,\\n         subsample=0.9, subsample_for_bin=200000, subsample_freq=3,\\n         verbose=-1\", \"primary_metric\": 0.68306368, \"best_metric\": 0.69796696}, {\"run_id\": \"AutoML_b2ef851b-df05-4965-8aff-e6a261f92726_3\", \"run_number\": 32, \"metric\": null, \"status\": \"Completed\", \"run_type\": null, \"training_percent\": \"100\", \"start_time\": \"2019-12-02T09:56:47.022317Z\", \"end_time\": \"2019-12-02T09:56:58.84247Z\", \"created_time\": \"2019-12-02T09:56:46.918918Z\", \"created_time_dt\": \"2019-12-02T09:56:46.918918Z\", \"duration\": \"0:00:11\", \"iteration\": \"3\", \"goal\": \"spearman_correlation_max\", \"run_name\": \"StandardScalerWrapper, LightGBM\", \"run_properties\": \"boosting_type='gbdt', class_weight=None, colsample_bytree=1,\\n         importance_type='split', learning_rate=0.1052678947368421,\\n         max_bin=7, max_depth=7, min_child_samples=1,\\n         min_child_weight=0.001, min_split_gain=0.7368421052631579,\\n         n_estimators=50, n_jobs=1, num_leaves=31, objective=None,\\n         random_state=None, reg_alpha=0, reg_lambda=1.5, silent=True,\\n         subsample=0.65, subsample_for_bin=200000, subsample_freq=1,\\n         verbose=-1\", \"primary_metric\": 0.6774315, \"best_metric\": 0.69796696}, {\"run_id\": \"AutoML_b2ef851b-df05-4965-8aff-e6a261f92726_4\", \"run_number\": 33, \"metric\": null, \"status\": \"Completed\", \"run_type\": null, \"training_percent\": \"100\", \"start_time\": \"2019-12-02T09:57:00.011371Z\", \"end_time\": \"2019-12-02T09:57:11.772676Z\", \"created_time\": \"2019-12-02T09:56:59.839262Z\", \"created_time_dt\": \"2019-12-02T09:56:59.839262Z\", \"duration\": \"0:00:11\", \"iteration\": \"4\", \"goal\": \"spearman_correlation_max\", \"run_name\": \"StandardScalerWrapper, RandomForest\", \"run_properties\": \"bootstrap=False, criterion='mse', max_depth=None,\\n           max_features='sqrt', max_leaf_nodes=None,\\n           min_impurity_decrease=0.0, min_impurity_split=None,\\n           min_samples_leaf=0.02840067375118317,\\n           min_samples_split=0.0008991789964660114,\\n           min_weight_fraction_leaf=0.0, n_estimators=25, n_jobs=1,\\n           oob_score=False, random_state=None, verbose=0, warm_start=False\", \"primary_metric\": 0.70082502, \"best_metric\": 0.70082502}], \"children_metrics\": {\"categories\": [0], \"series\": {\"mean_absolute_error\": [{\"categories\": [\"0\", \"1\", \"2\", \"3\", \"4\"], \"mode\": \"markers\", \"name\": \"mean_absolute_error\", \"stepped\": false, \"type\": \"scatter\", \"data\": [46.51795837991597, 45.762232443608255, 46.26537926801358, 46.07377506461595, 45.49890066070632]}, {\"categories\": [\"0\", \"1\", \"2\", \"3\", \"4\"], \"mode\": \"lines\", \"name\": \"mean_absolute_error_min\", \"stepped\": true, \"type\": \"scatter\", \"data\": [46.51795837991597, 45.762232443608255, 45.762232443608255, 45.762232443608255, 45.49890066070632]}], \"explained_variance\": [{\"categories\": [\"0\", \"1\", \"2\", \"3\", \"4\"], \"mode\": \"markers\", \"name\": \"explained_variance\", \"stepped\": false, \"type\": \"scatter\", \"data\": [0.5019719609137694, 0.4808528297794156, 0.493652302869406, 0.44642647767713833, 0.5131483860619857]}, {\"categories\": [\"0\", \"1\", \"2\", \"3\", \"4\"], \"mode\": \"lines\", \"name\": \"explained_variance_max\", \"stepped\": true, \"type\": \"scatter\", \"data\": [0.5019719609137694, 0.5019719609137694, 0.5019719609137694, 0.5019719609137694, 0.5131483860619857]}], \"normalized_root_mean_squared_log_error\": [{\"categories\": [\"0\", \"1\", \"2\", \"3\", \"4\"], \"mode\": \"markers\", \"name\": \"normalized_root_mean_squared_log_error\", \"stepped\": false, \"type\": \"scatter\", \"data\": [0.1667459586210613, 0.16767031442812258, 0.1680011306249886, 0.1679226621532305, 0.1645989279926716]}, {\"categories\": [\"0\", \"1\", \"2\", \"3\", \"4\"], \"mode\": \"lines\", \"name\": \"normalized_root_mean_squared_log_error_min\", \"stepped\": true, \"type\": \"scatter\", \"data\": [0.1667459586210613, 0.1667459586210613, 0.1667459586210613, 0.1667459586210613, 0.1645989279926716]}], \"normalized_median_absolute_error\": [{\"categories\": [\"0\", \"1\", \"2\", \"3\", \"4\"], \"mode\": \"markers\", \"name\": \"normalized_median_absolute_error\", \"stepped\": false, \"type\": \"scatter\", \"data\": [0.13514533352223818, 0.1231606042624734, 0.1267808359968559, 0.1237312599304475, 0.13250122684922022]}, {\"categories\": [\"0\", \"1\", \"2\", \"3\", \"4\"], \"mode\": \"lines\", \"name\": \"normalized_median_absolute_error_min\", \"stepped\": true, \"type\": \"scatter\", \"data\": [0.13514533352223818, 0.1231606042624734, 0.1231606042624734, 0.1231606042624734, 0.1231606042624734]}], \"spearman_correlation\": [{\"categories\": [\"0\", \"1\", \"2\", \"3\", \"4\"], \"mode\": \"markers\", \"name\": \"spearman_correlation\", \"stepped\": false, \"type\": \"scatter\", \"data\": [0.6979669588604738, 0.6689763912629744, 0.6830636781822348, 0.6774314996972028, 0.7008250186553711]}, {\"categories\": [\"0\", \"1\", \"2\", \"3\", \"4\"], \"mode\": \"lines\", \"name\": \"spearman_correlation_max\", \"stepped\": true, \"type\": \"scatter\", \"data\": [0.6979669588604738, 0.6979669588604738, 0.6979669588604738, 0.6979669588604738, 0.7008250186553711]}], \"normalized_mean_absolute_error\": [{\"categories\": [\"0\", \"1\", \"2\", \"3\", \"4\"], \"mode\": \"markers\", \"name\": \"normalized_mean_absolute_error\", \"stepped\": false, \"type\": \"scatter\", \"data\": [0.14491575819288466, 0.14256147178694162, 0.14412890737698936, 0.14353200954709017, 0.14174112355360224]}, {\"categories\": [\"0\", \"1\", \"2\", \"3\", \"4\"], \"mode\": \"lines\", \"name\": \"normalized_mean_absolute_error_min\", \"stepped\": true, \"type\": \"scatter\", \"data\": [0.14491575819288466, 0.14256147178694162, 0.14256147178694162, 0.14256147178694162, 0.14174112355360224]}], \"root_mean_squared_error\": [{\"categories\": [\"0\", \"1\", \"2\", \"3\", \"4\"], \"mode\": \"markers\", \"name\": \"root_mean_squared_error\", \"stepped\": false, \"type\": \"scatter\", \"data\": [55.68968415007919, 56.94927033423111, 56.21894333944429, 58.354464868731746, 55.02839412326184]}, {\"categories\": [\"0\", \"1\", \"2\", \"3\", \"4\"], \"mode\": \"lines\", \"name\": \"root_mean_squared_error_min\", \"stepped\": true, \"type\": \"scatter\", \"data\": [55.68968415007919, 55.68968415007919, 55.68968415007919, 55.68968415007919, 55.02839412326184]}], \"r2_score\": [{\"categories\": [\"0\", \"1\", \"2\", \"3\", \"4\"], \"mode\": \"markers\", \"name\": \"r2_score\", \"stepped\": false, \"type\": \"scatter\", \"data\": [0.4807533128629933, 0.4563776781750932, 0.46970483524460854, 0.4285400880219977, 0.4911713541548991]}, {\"categories\": [\"0\", \"1\", \"2\", \"3\", \"4\"], \"mode\": \"lines\", \"name\": \"r2_score_max\", \"stepped\": true, \"type\": \"scatter\", \"data\": [0.4807533128629933, 0.4807533128629933, 0.4807533128629933, 0.4807533128629933, 0.4911713541548991]}], \"mean_absolute_percentage_error\": [{\"categories\": [\"0\", \"1\", \"2\", \"3\", \"4\"], \"mode\": \"markers\", \"name\": \"mean_absolute_percentage_error\", \"stepped\": false, \"type\": \"scatter\", \"data\": [42.20013017731793, 40.82596063184512, 42.15438054717965, 39.96303455940697, 40.948257420761244]}, {\"categories\": [\"0\", \"1\", \"2\", \"3\", \"4\"], \"mode\": \"lines\", \"name\": \"mean_absolute_percentage_error_min\", \"stepped\": true, \"type\": \"scatter\", \"data\": [42.20013017731793, 40.82596063184512, 40.82596063184512, 39.96303455940697, 39.96303455940697]}], \"normalized_root_mean_squared_error\": [{\"categories\": [\"0\", \"1\", \"2\", \"3\", \"4\"], \"mode\": \"markers\", \"name\": \"normalized_root_mean_squared_error\", \"stepped\": false, \"type\": \"scatter\", \"data\": [0.17348811261706912, 0.1774120571159848, 0.1751368951384557, 0.18178961018296494, 0.17142801907558206]}, {\"categories\": [\"0\", \"1\", \"2\", \"3\", \"4\"], \"mode\": \"lines\", \"name\": \"normalized_root_mean_squared_error_min\", \"stepped\": true, \"type\": \"scatter\", \"data\": [0.17348811261706912, 0.17348811261706912, 0.17348811261706912, 0.17348811261706912, 0.17142801907558206]}], \"root_mean_squared_log_error\": [{\"categories\": [\"0\", \"1\", \"2\", \"3\", \"4\"], \"mode\": \"markers\", \"name\": \"root_mean_squared_log_error\", \"stepped\": false, \"type\": \"scatter\", \"data\": [0.43207683720581447, 0.4344720540786594, 0.4353292743508647, 0.4351259446307446, 0.4265133908052522]}, {\"categories\": [\"0\", \"1\", \"2\", \"3\", \"4\"], \"mode\": \"lines\", \"name\": \"root_mean_squared_log_error_min\", \"stepped\": true, \"type\": \"scatter\", \"data\": [0.43207683720581447, 0.43207683720581447, 0.43207683720581447, 0.43207683720581447, 0.4265133908052522]}], \"median_absolute_error\": [{\"categories\": [\"0\", \"1\", \"2\", \"3\", \"4\"], \"mode\": \"markers\", \"name\": \"median_absolute_error\", \"stepped\": false, \"type\": \"scatter\", \"data\": [43.381652060638444, 39.53455396825395, 40.69664835499074, 39.717734437673656, 42.53289381859969]}, {\"categories\": [\"0\", \"1\", \"2\", \"3\", \"4\"], \"mode\": \"lines\", \"name\": \"median_absolute_error_min\", \"stepped\": true, \"type\": \"scatter\", \"data\": [43.381652060638444, 39.53455396825395, 39.53455396825395, 39.53455396825395, 39.53455396825395]}]}, \"metricName\": null, \"primaryMetricName\": \"spearman_correlation\", \"showLegend\": false}, \"run_metrics\": [], \"run_logs\": \"\\nRun is completed.\", \"graph\": {}, \"widget_settings\": {\"childWidgetDisplay\": \"popup\", \"send_telemetry\": false, \"log_level\": \"INFO\", \"sdk_version\": \"1.0.74\"}, \"loading\": false}"
     },
     "metadata": {},
     "output_type": "display_data"
    }
   ],
   "source": [
    "from azureml.widgets import RunDetails\n",
    "RunDetails(local_run).show() "
   ]
  },
  {
   "cell_type": "markdown",
   "metadata": {},
   "source": [
    "\n",
    "### 5.2 Récupération de toutes les itérations"
   ]
  },
  {
   "cell_type": "code",
   "execution_count": 16,
   "metadata": {},
   "outputs": [
    {
     "data": {
      "text/html": [
       "<div>\n",
       "<style scoped>\n",
       "    .dataframe tbody tr th:only-of-type {\n",
       "        vertical-align: middle;\n",
       "    }\n",
       "\n",
       "    .dataframe tbody tr th {\n",
       "        vertical-align: top;\n",
       "    }\n",
       "\n",
       "    .dataframe thead th {\n",
       "        text-align: right;\n",
       "    }\n",
       "</style>\n",
       "<table border=\"1\" class=\"dataframe\">\n",
       "  <thead>\n",
       "    <tr style=\"text-align: right;\">\n",
       "      <th></th>\n",
       "      <th>0</th>\n",
       "      <th>1</th>\n",
       "      <th>2</th>\n",
       "      <th>3</th>\n",
       "      <th>4</th>\n",
       "    </tr>\n",
       "  </thead>\n",
       "  <tbody>\n",
       "    <tr>\n",
       "      <th>explained_variance</th>\n",
       "      <td>0.50</td>\n",
       "      <td>0.48</td>\n",
       "      <td>0.49</td>\n",
       "      <td>0.45</td>\n",
       "      <td>0.51</td>\n",
       "    </tr>\n",
       "    <tr>\n",
       "      <th>mean_absolute_error</th>\n",
       "      <td>46.52</td>\n",
       "      <td>45.76</td>\n",
       "      <td>46.27</td>\n",
       "      <td>46.07</td>\n",
       "      <td>45.50</td>\n",
       "    </tr>\n",
       "    <tr>\n",
       "      <th>mean_absolute_percentage_error</th>\n",
       "      <td>42.20</td>\n",
       "      <td>40.83</td>\n",
       "      <td>42.15</td>\n",
       "      <td>39.96</td>\n",
       "      <td>40.95</td>\n",
       "    </tr>\n",
       "    <tr>\n",
       "      <th>median_absolute_error</th>\n",
       "      <td>43.38</td>\n",
       "      <td>39.53</td>\n",
       "      <td>40.70</td>\n",
       "      <td>39.72</td>\n",
       "      <td>42.53</td>\n",
       "    </tr>\n",
       "    <tr>\n",
       "      <th>normalized_mean_absolute_error</th>\n",
       "      <td>0.14</td>\n",
       "      <td>0.14</td>\n",
       "      <td>0.14</td>\n",
       "      <td>0.14</td>\n",
       "      <td>0.14</td>\n",
       "    </tr>\n",
       "    <tr>\n",
       "      <th>normalized_median_absolute_error</th>\n",
       "      <td>0.14</td>\n",
       "      <td>0.12</td>\n",
       "      <td>0.13</td>\n",
       "      <td>0.12</td>\n",
       "      <td>0.13</td>\n",
       "    </tr>\n",
       "    <tr>\n",
       "      <th>normalized_root_mean_squared_error</th>\n",
       "      <td>0.17</td>\n",
       "      <td>0.18</td>\n",
       "      <td>0.18</td>\n",
       "      <td>0.18</td>\n",
       "      <td>0.17</td>\n",
       "    </tr>\n",
       "    <tr>\n",
       "      <th>normalized_root_mean_squared_log_error</th>\n",
       "      <td>0.17</td>\n",
       "      <td>0.17</td>\n",
       "      <td>0.17</td>\n",
       "      <td>0.17</td>\n",
       "      <td>0.16</td>\n",
       "    </tr>\n",
       "    <tr>\n",
       "      <th>r2_score</th>\n",
       "      <td>0.48</td>\n",
       "      <td>0.46</td>\n",
       "      <td>0.47</td>\n",
       "      <td>0.43</td>\n",
       "      <td>0.49</td>\n",
       "    </tr>\n",
       "    <tr>\n",
       "      <th>root_mean_squared_error</th>\n",
       "      <td>55.69</td>\n",
       "      <td>56.95</td>\n",
       "      <td>56.22</td>\n",
       "      <td>58.35</td>\n",
       "      <td>55.03</td>\n",
       "    </tr>\n",
       "    <tr>\n",
       "      <th>root_mean_squared_log_error</th>\n",
       "      <td>0.43</td>\n",
       "      <td>0.43</td>\n",
       "      <td>0.44</td>\n",
       "      <td>0.44</td>\n",
       "      <td>0.43</td>\n",
       "    </tr>\n",
       "    <tr>\n",
       "      <th>spearman_correlation</th>\n",
       "      <td>0.70</td>\n",
       "      <td>0.67</td>\n",
       "      <td>0.68</td>\n",
       "      <td>0.68</td>\n",
       "      <td>0.70</td>\n",
       "    </tr>\n",
       "  </tbody>\n",
       "</table>\n",
       "</div>"
      ],
      "text/plain": [
       "                                           0     1     2     3     4\n",
       "explained_variance                     0.50  0.48  0.49  0.45  0.51 \n",
       "mean_absolute_error                    46.52 45.76 46.27 46.07 45.50\n",
       "mean_absolute_percentage_error         42.20 40.83 42.15 39.96 40.95\n",
       "median_absolute_error                  43.38 39.53 40.70 39.72 42.53\n",
       "normalized_mean_absolute_error         0.14  0.14  0.14  0.14  0.14 \n",
       "normalized_median_absolute_error       0.14  0.12  0.13  0.12  0.13 \n",
       "normalized_root_mean_squared_error     0.17  0.18  0.18  0.18  0.17 \n",
       "normalized_root_mean_squared_log_error 0.17  0.17  0.17  0.17  0.16 \n",
       "r2_score                               0.48  0.46  0.47  0.43  0.49 \n",
       "root_mean_squared_error                55.69 56.95 56.22 58.35 55.03\n",
       "root_mean_squared_log_error            0.43  0.43  0.44  0.44  0.43 \n",
       "spearman_correlation                   0.70  0.67  0.68  0.68  0.70 "
      ]
     },
     "execution_count": 16,
     "metadata": {},
     "output_type": "execute_result"
    }
   ],
   "source": [
    "children = list(local_run.get_children())\n",
    "metricslist = {}\n",
    "for run in children:\n",
    "    properties = run.get_properties()\n",
    "    metrics = {k: v for k, v in run.get_metrics().items() if isinstance(v, float)}\n",
    "    metricslist[int(properties['iteration'])] = metrics\n",
    "\n",
    "rundata = pd.DataFrame(metricslist).sort_index(1)\n",
    "rundata"
   ]
  },
  {
   "cell_type": "markdown",
   "metadata": {},
   "source": [
    "### 5.3 Obtention du meilleur modèle\n",
    "\n",
    "Below we select the best pipeline from our iterations. The `get_output` method returns the best run and the fitted model. The Model includes the pipeline and any pre-processing.  Overloads on `get_output` allow you to retrieve the best run and fitted model for *any* logged metric or for a particular *iteration*."
   ]
  },
  {
   "cell_type": "code",
   "execution_count": 17,
   "metadata": {},
   "outputs": [
    {
     "name": "stdout",
     "output_type": "stream",
     "text": [
      "Run(Experiment: workshop3-automlregression,\n",
      "Id: AutoML_b2ef851b-df05-4965-8aff-e6a261f92726_4,\n",
      "Type: None,\n",
      "Status: Completed)\n",
      "RegressionPipeline(pipeline=Pipeline(memory=None,\n",
      "     steps=[('StandardScalerWrapper', <automl.client.core.runtime.model_wrappers.StandardScalerWrapper object at 0x7fb41c26e1d0>), ('RandomForestRegressor', RandomForestRegressor(bootstrap=False, criterion='mse', max_depth=None,\n",
      "           max_features='sqrt', max_leaf_nodes=None,\n",
      "           min_impurity...timators=25, n_jobs=1,\n",
      "           oob_score=False, random_state=None, verbose=0, warm_start=False))]),\n",
      "          stddev=None)\n"
     ]
    }
   ],
   "source": [
    "best_run, fitted_model = local_run.get_output()\n",
    "print(best_run)\n",
    "print(fitted_model)"
   ]
  },
  {
   "cell_type": "code",
   "execution_count": 18,
   "metadata": {},
   "outputs": [
    {
     "data": {
      "text/plain": [
       "<bound method Pipeline.get_params of RegressionPipeline(pipeline=Pipeline(memory=None,\n",
       "     steps=[('StandardScalerWrapper', <automl.client.core.runtime.model_wrappers.StandardScalerWrapper object at 0x7fb41c26e1d0>), ('RandomForestRegressor', RandomForestRegressor(bootstrap=False, criterion='mse', max_depth=None,\n",
       "           max_features='sqrt', max_leaf_nodes=None,\n",
       "           min_impurity...timators=25, n_jobs=1,\n",
       "           oob_score=False, random_state=None, verbose=0, warm_start=False))]),\n",
       "          stddev=None)>"
      ]
     },
     "execution_count": 18,
     "metadata": {},
     "output_type": "execute_result"
    }
   ],
   "source": [
    "fitted_model.get_params"
   ]
  },
  {
   "cell_type": "code",
   "execution_count": 19,
   "metadata": {},
   "outputs": [
    {
     "data": {
      "text/plain": [
       "[('StandardScalerWrapper',\n",
       "  <automl.client.core.runtime.model_wrappers.StandardScalerWrapper at 0x7fb41c26e1d0>),\n",
       " ('RandomForestRegressor',\n",
       "  RandomForestRegressor(bootstrap=False, criterion='mse', max_depth=None,\n",
       "             max_features='sqrt', max_leaf_nodes=None,\n",
       "             min_impurity_decrease=0.0, min_impurity_split=None,\n",
       "             min_samples_leaf=0.02840067375118317,\n",
       "             min_samples_split=0.0008991789964660114,\n",
       "             min_weight_fraction_leaf=0.0, n_estimators=25, n_jobs=1,\n",
       "             oob_score=False, random_state=None, verbose=0, warm_start=False))]"
      ]
     },
     "execution_count": 19,
     "metadata": {},
     "output_type": "execute_result"
    }
   ],
   "source": [
    "fitted_model.steps"
   ]
  },
  {
   "cell_type": "markdown",
   "metadata": {},
   "source": [
    "### 5.4 Changement de métrique\n",
    "Show the run and the model that has the smallest `root_mean_squared_error` value (which turned out to be the same as the one with largest `spearman_correlation` value):"
   ]
  },
  {
   "cell_type": "code",
   "execution_count": 20,
   "metadata": {},
   "outputs": [
    {
     "name": "stdout",
     "output_type": "stream",
     "text": [
      "Run(Experiment: workshop3-automlregression,\n",
      "Id: AutoML_b2ef851b-df05-4965-8aff-e6a261f92726_4,\n",
      "Type: None,\n",
      "Status: Completed)\n",
      "RegressionPipeline(pipeline=Pipeline(memory=None,\n",
      "     steps=[('StandardScalerWrapper', <automl.client.core.runtime.model_wrappers.StandardScalerWrapper object at 0x7fb41bd98588>), ('RandomForestRegressor', RandomForestRegressor(bootstrap=False, criterion='mse', max_depth=None,\n",
      "           max_features='sqrt', max_leaf_nodes=None,\n",
      "           min_impurity...timators=25, n_jobs=1,\n",
      "           oob_score=False, random_state=None, verbose=0, warm_start=False))]),\n",
      "          stddev=None)\n"
     ]
    }
   ],
   "source": [
    "lookup_metric = \"root_mean_squared_error\"\n",
    "best_run, fitted_model = local_run.get_output(metric = lookup_metric)\n",
    "print(best_run)\n",
    "print(fitted_model)"
   ]
  },
  {
   "cell_type": "markdown",
   "metadata": {},
   "source": [
    "### 5.5 Choix d'une itération spécifique\n",
    "Show the run and the model from the third iteration:"
   ]
  },
  {
   "cell_type": "code",
   "execution_count": 21,
   "metadata": {},
   "outputs": [
    {
     "name": "stdout",
     "output_type": "stream",
     "text": [
      "Run(Experiment: workshop3-automlregression,\n",
      "Id: AutoML_b2ef851b-df05-4965-8aff-e6a261f92726_3,\n",
      "Type: None,\n",
      "Status: Completed)\n",
      "RegressionPipeline(pipeline=Pipeline(memory=None,\n",
      "     steps=[('StandardScalerWrapper', <automl.client.core.runtime.model_wrappers.StandardScalerWrapper object at 0x7fb41bd9bf28>), ('LightGBMRegressor', LightGBMRegressor(boosting_type='gbdt', class_weight=None, colsample_bytree=1,\n",
      "         importance_type='split', learning_rate=0.1052678947368421,\n",
      "     ...nt=True,\n",
      "         subsample=0.65, subsample_for_bin=200000, subsample_freq=1,\n",
      "         verbose=-1))]),\n",
      "          stddev=None)\n"
     ]
    }
   ],
   "source": [
    "iteration = 3\n",
    "ite_run, ite_model = local_run.get_output(iteration = iteration)\n",
    "print(ite_run)\n",
    "print(ite_model)"
   ]
  },
  {
   "cell_type": "markdown",
   "metadata": {},
   "source": [
    "## 6. Validation"
   ]
  },
  {
   "cell_type": "markdown",
   "metadata": {},
   "source": [
    "Predict on training and test set, and calculate residual values."
   ]
  },
  {
   "cell_type": "code",
   "execution_count": 22,
   "metadata": {},
   "outputs": [],
   "source": [
    "y_pred_train = fitted_model.predict(X_train)\n",
    "y_residual_train = y_train - y_pred_train\n",
    "\n",
    "y_pred_test = fitted_model.predict(X_test)\n",
    "y_residual_test = y_test - y_pred_test"
   ]
  },
  {
   "cell_type": "code",
   "execution_count": 23,
   "metadata": {},
   "outputs": [
    {
     "data": {
      "image/png": "[encoded data removed]",
      "text/plain": [
       "<Figure size 1152x432 with 2 Axes>"
      ]
     },
     "metadata": {
      "needs_background": "light"
     },
     "output_type": "display_data"
    }
   ],
   "source": [
    "%matplotlib inline\n",
    "import matplotlib.pyplot as plt\n",
    "import numpy as np\n",
    "from sklearn import datasets\n",
    "from sklearn.metrics import mean_squared_error, r2_score\n",
    "\n",
    "# Set up a multi-plot chart.\n",
    "f, (a0, a1) = plt.subplots(1, 2, gridspec_kw = {'width_ratios':[1, 1], 'wspace':0, 'hspace': 0})\n",
    "f.suptitle('Regression Residual Values', fontsize = 18)\n",
    "f.set_figheight(6)\n",
    "f.set_figwidth(16)\n",
    "\n",
    "# Plot residual values of training set.\n",
    "a0.axis([0, 360, -200, 200])\n",
    "a0.plot(y_residual_train, 'bo', alpha = 0.5)\n",
    "a0.plot([-10,360],[0,0], 'r-', lw = 3)\n",
    "a0.text(16,170,'RMSE = {0:.2f}'.format(np.sqrt(mean_squared_error(y_train, y_pred_train))), fontsize = 12)\n",
    "a0.text(16,140,'R2 score = {0:.2f}'.format(r2_score(y_train, y_pred_train)), fontsize = 12)\n",
    "a0.set_xlabel('Training samples', fontsize = 12)\n",
    "a0.set_ylabel('Residual Values', fontsize = 12)\n",
    "\n",
    "# Plot a histogram.\n",
    "a0.hist(y_residual_train, orientation = 'horizontal', color = 'b', bins = 10, histtype = 'step');\n",
    "a0.hist(y_residual_train, orientation = 'horizontal', color = 'b', alpha = 0.2, bins = 10);\n",
    "\n",
    "# Plot residual values of test set.\n",
    "a1.axis([0, 90, -200, 200])\n",
    "a1.plot(y_residual_test, 'bo', alpha = 0.5)\n",
    "a1.plot([-10,360],[0,0], 'r-', lw = 3)\n",
    "a1.text(5,170,'RMSE = {0:.2f}'.format(np.sqrt(mean_squared_error(y_test, y_pred_test))), fontsize = 12)\n",
    "a1.text(5,140,'R2 score = {0:.2f}'.format(r2_score(y_test, y_pred_test)), fontsize = 12)\n",
    "a1.set_xlabel('Test samples', fontsize = 12)\n",
    "a1.set_yticklabels([])\n",
    "\n",
    "# Plot a histogram.\n",
    "a1.hist(y_residual_test, orientation = 'horizontal', color = 'b', bins = 10, histtype = 'step')\n",
    "a1.hist(y_residual_test, orientation = 'horizontal', color = 'b', alpha = 0.2, bins = 10)\n",
    "\n",
    "plt.show()"
   ]
  },
  {
   "cell_type": "markdown",
   "metadata": {},
   "source": [
    "> Plus d'information : https://docs.microsoft.com/en-us/azure/machine-learning/service/"
   ]
  },
  {
   "cell_type": "markdown",
   "metadata": {},
   "source": [
    "<img src=\"https://github.com/retkowsky/images/blob/master/Powered-by-MS-Azure-logo-v2.png?raw=true\" height=\"300\" width=\"300\">"
   ]
  },
  {
   "cell_type": "code",
   "execution_count": null,
   "metadata": {},
   "outputs": [],
   "source": []
  }
 ],
 "metadata": {
  "authors": [
   {
    "name": "savitam"
   }
  ],
  "kernelspec": {
   "display_name": "Python 3.6 - AzureML",
   "language": "python",
   "name": "python3-azureml"
  },
  "language_info": {
   "codemirror_mode": {
    "name": "ipython",
    "version": 3
   },
   "file_extension": ".py",
   "mimetype": "text/x-python",
   "name": "python",
   "nbconvert_exporter": "python",
   "pygments_lexer": "ipython3",
   "version": "3.6.9"
  }
 },
 "nbformat": 4,
 "nbformat_minor": 2
}
