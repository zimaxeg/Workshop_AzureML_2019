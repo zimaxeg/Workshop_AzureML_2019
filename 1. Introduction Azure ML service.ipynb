{
 "cells": [
  {
   "cell_type": "markdown",
   "metadata": {},
   "source": [
    "# Introduction Azure ML service\n",
    "<br>\n",
    "\n",
    "<img src='https://github.com/retkowsky/images/blob/master/AzureMLservicebanniere.png?raw=true'>\n",
    "\n",
    "\n",
    "> Documentation : https://docs.microsoft.com/en-us/azure/machine-learning/"
   ]
  },
  {
   "cell_type": "markdown",
   "metadata": {},
   "source": [
    "## 0. Paramétrage"
   ]
  },
  {
   "cell_type": "code",
   "execution_count": 1,
   "metadata": {},
   "outputs": [
    {
     "data": {
      "text/plain": [
       "'3.6.9 |Anaconda, Inc.| (default, Jul 30 2019, 19:07:31) \\n[GCC 7.3.0]'"
      ]
     },
     "execution_count": 1,
     "metadata": {},
     "output_type": "execute_result"
    }
   ],
   "source": [
    "import sys\n",
    "sys.version"
   ]
  },
  {
   "cell_type": "code",
   "execution_count": 2,
   "metadata": {},
   "outputs": [
    {
     "name": "stdout",
     "output_type": "stream",
     "text": [
      "2019-12-04 14:59:55.668204\n"
     ]
    }
   ],
   "source": [
    "import datetime\n",
    "now = datetime.datetime.now()\n",
    "print(now)"
   ]
  },
  {
   "cell_type": "code",
   "execution_count": 3,
   "metadata": {},
   "outputs": [
    {
     "name": "stdout",
     "output_type": "stream",
     "text": [
      "Version Azure ML service :  1.0.74\n"
     ]
    }
   ],
   "source": [
    "import azureml.core\n",
    "from azureml.core import Experiment, Workspace\n",
    "\n",
    "# Check core SDK version number\n",
    "print(\"Version Azure ML service : \", azureml.core.VERSION)"
   ]
  },
  {
   "cell_type": "code",
   "execution_count": 4,
   "metadata": {},
   "outputs": [
    {
     "name": "stdout",
     "output_type": "stream",
     "text": [
      "Workspace name: workshopml\n",
      "Azure region: northeurope\n",
      "Resource group: workshopmlRG\n"
     ]
    }
   ],
   "source": [
    "# Rappel des infos du workspace Azure ML service\n",
    "ws = Workspace.from_config()\n",
    "print('Workspace name: ' + ws.name, \n",
    "      'Azure region: ' + ws.location, \n",
    "      'Resource group: ' + ws.resource_group, sep='\\n')"
   ]
  },
  {
   "cell_type": "markdown",
   "metadata": {},
   "source": [
    "## 1. Chargement des données"
   ]
  },
  {
   "cell_type": "code",
   "execution_count": 9,
   "metadata": {},
   "outputs": [],
   "source": [
    "from sklearn.datasets import load_diabetes\n",
    "from sklearn.linear_model import Ridge\n",
    "from sklearn.metrics import mean_squared_error\n",
    "from sklearn.model_selection import train_test_split\n",
    "from sklearn.externals import joblib"
   ]
  },
  {
   "cell_type": "code",
   "execution_count": 10,
   "metadata": {},
   "outputs": [],
   "source": [
    "X, y = load_diabetes(return_X_y = True)\n",
    "\n",
    "columns = ['age', 'gender', 'bmi', 'bp', 's1', 's2', 's3', 's4', 's5', 's6']"
   ]
  },
  {
   "cell_type": "code",
   "execution_count": 11,
   "metadata": {},
   "outputs": [],
   "source": [
    "# Partitionnement des données\n",
    "X_train, X_test, y_train, y_test = train_test_split(X, y, test_size=0.2, random_state=0)\n",
    "\n",
    "data = {\n",
    "    \"train\":{\"X\": X_train, \"y\": y_train},        \n",
    "    \"test\":{\"X\": X_test, \"y\": y_test}\n",
    "}"
   ]
  },
  {
   "cell_type": "code",
   "execution_count": 12,
   "metadata": {},
   "outputs": [
    {
     "name": "stdout",
     "output_type": "stream",
     "text": [
      "Training = 353 observations\n"
     ]
    }
   ],
   "source": [
    "print (\"Training =\", len(data['train']['X']), 'observations')"
   ]
  },
  {
   "cell_type": "code",
   "execution_count": 13,
   "metadata": {},
   "outputs": [
    {
     "name": "stdout",
     "output_type": "stream",
     "text": [
      "Test = 89 observations\n"
     ]
    }
   ],
   "source": [
    "print (\"Test =\", len(data['test']['X']), 'observations')"
   ]
  },
  {
   "cell_type": "markdown",
   "metadata": {},
   "source": [
    "## 2. Modélisation"
   ]
  },
  {
   "cell_type": "markdown",
   "metadata": {},
   "source": [
    "Nous allons réaliser un modèle de régression **Ridge**.<br> \n",
    "<img src='https://github.com/retkowsky/images/blob/master/ridge.png?raw=true'>\n",
    "<br>\n",
    "C'est une version régularisée de la régression linéaire.\n",
    "Cela permet d'ajuster les données avec des coefficents de pondération du modèle les plus petits possibles.\n",
    "- Si le paramétre = 0 => nous avons dans ce cas une régression linéaire.\n",
    "- Si le paramétre a une valeur importante, alors les coefficients de pondérations ont des valeurs proches de 0 => on aura dans ce cas une ligne horizontale qui passe par la moyenne des données.\n",
    "\n"
   ]
  },
  {
   "cell_type": "code",
   "execution_count": 14,
   "metadata": {},
   "outputs": [],
   "source": [
    "experiment = Experiment(workspace=ws, name=\"workshop1-IntroductionAMLS\")"
   ]
  },
  {
   "cell_type": "markdown",
   "metadata": {},
   "source": [
    "## Les étapes\n",
    "1. Logs d'informations\n",
    "2. Modélisation\n",
    "3. Logs de résultats de modèles\n",
    "4. Sauvegarde modèle"
   ]
  },
  {
   "cell_type": "code",
   "execution_count": 15,
   "metadata": {},
   "outputs": [],
   "source": [
    "def regridge(alpha):\n",
    "    \n",
    "    from datetime import datetime\n",
    "    maintenant = datetime.now()\n",
    "    print(\"Maintenant : \", maintenant)\n",
    "\n",
    "    # 1. Run object\n",
    "    run = experiment.start_logging()\n",
    "    print('Alpha = ', alpha)\n",
    "    # 2. Logs de valeurs\n",
    "    run.log('alpha', alpha)\n",
    "    run.log('date_log', str(maintenant))\n",
    "\n",
    "    # 3. Modèle ML\n",
    "    regression_model = Ridge(alpha=alpha)\n",
    "    regression_model.fit(data['train']['X'], data['train']['y'])\n",
    "    preds = regression_model.predict(data['test']['X'])\n",
    "\n",
    "    # 4. Output\n",
    "    print('MSE ou Mean Squared Error du modèle =', mean_squared_error(data['test']['y'], preds))\n",
    "    run.log('mse', mean_squared_error(data['test']['y'], preds))\n",
    "\n",
    "    # 5. Export modèle\n",
    "    joblib.dump(value=regression_model, filename='modele.pkl')\n",
    "\n",
    "    # 6. Fin\n",
    "    run.complete()"
   ]
  },
  {
   "cell_type": "code",
   "execution_count": 16,
   "metadata": {},
   "outputs": [
    {
     "name": "stdout",
     "output_type": "stream",
     "text": [
      "Maintenant :  2019-12-04 15:00:34.689522\n",
      "Alpha =  0.1\n",
      "MSE ou Mean Squared Error du modèle = 3372.649627810032\n"
     ]
    }
   ],
   "source": [
    "regridge(0.1)"
   ]
  },
  {
   "cell_type": "code",
   "execution_count": 17,
   "metadata": {},
   "outputs": [
    {
     "name": "stdout",
     "output_type": "stream",
     "text": [
      "Maintenant :  2019-12-04 15:00:42.497748\n",
      "Alpha =  0.2\n",
      "MSE ou Mean Squared Error du modèle = 3325.2946794678764\n"
     ]
    }
   ],
   "source": [
    "regridge(0.2)"
   ]
  },
  {
   "cell_type": "code",
   "execution_count": 18,
   "metadata": {},
   "outputs": [
    {
     "name": "stdout",
     "output_type": "stream",
     "text": [
      "Maintenant :  2019-12-04 15:00:49.006780\n",
      "Alpha =  0.3\n",
      "MSE ou Mean Squared Error du modèle = 3302.6736334017255\n"
     ]
    }
   ],
   "source": [
    "regridge(0.3)"
   ]
  },
  {
   "cell_type": "code",
   "execution_count": 19,
   "metadata": {},
   "outputs": [
    {
     "name": "stdout",
     "output_type": "stream",
     "text": [
      "-rwxrwxrwx 1 root root 645 Dec  4 15:00 \u001b[0m\u001b[01;32mmodele.pkl\u001b[0m*\r\n"
     ]
    }
   ],
   "source": [
    "# On regarde si on a bien téléchargé le pickle\n",
    "%ls modele.pkl -l"
   ]
  },
  {
   "cell_type": "markdown",
   "metadata": {},
   "source": [
    "## Boucle sur alpha"
   ]
  },
  {
   "cell_type": "code",
   "execution_count": 20,
   "metadata": {},
   "outputs": [
    {
     "name": "stderr",
     "output_type": "stream",
     "text": [
      "100%|██████████| 10/10 [01:13<00:00,  7.32s/it]"
     ]
    },
    {
     "name": "stdout",
     "output_type": "stream",
     "text": [
      "CPU times: user 3.67 s, sys: 1.29 s, total: 4.96 s\n",
      "Wall time: 1min 13s\n"
     ]
    },
    {
     "name": "stderr",
     "output_type": "stream",
     "text": [
      "\n"
     ]
    }
   ],
   "source": [
    "%%time\n",
    "import numpy as np\n",
    "from tqdm import tqdm\n",
    "\n",
    "alphas = np.arange(0.0, 1.0, 0.1)\n",
    "\n",
    "# try a bunch of alpha values in a Linear Regression (Ridge) model\n",
    "for alpha in tqdm(alphas):\n",
    "    # create a bunch of runs, each train a model with a different alpha value\n",
    "    with experiment.start_logging() as run:\n",
    "        # Use Ridge algorithm to build a regression model\n",
    "        regression_model = Ridge(alpha=alpha)\n",
    "        regression_model.fit(X=data[\"train\"][\"X\"], y=data[\"train\"][\"y\"])\n",
    "        preds = regression_model.predict(X=data[\"test\"][\"X\"])\n",
    "        mse = mean_squared_error(y_true=data[\"test\"][\"y\"], y_pred=preds)\n",
    "\n",
    "        # log alpha, mean_squared_error and feature names in run history\n",
    "        run.log(name=\"alpha\", value=alpha)\n",
    "        run.log(name=\"mse\", value=mse)\n",
    "        \n",
    "        # Génération pickle du modèle\n",
    "        model_name = \"modele_ridge_alpha_\" + str(alpha) + \".pkl\"\n",
    "        filename = \"outputs/\" + model_name\n",
    "    \n",
    "        # Save the model to the outputs directory for capture\n",
    "        joblib.dump(value=regression_model, filename=filename)"
   ]
  },
  {
   "cell_type": "code",
   "execution_count": 21,
   "metadata": {},
   "outputs": [
    {
     "data": {
      "text/html": [
       "<table style=\"width:100%\"><tr><th>Name</th><th>Workspace</th><th>Report Page</th><th>Docs Page</th></tr><tr><td>workshop1-IntroductionAMLS</td><td>workshopml</td><td><a href=\"https://ml.azure.com/experiments/workshop1-IntroductionAMLS?wsid=/subscriptions/70b8f39e-8863-49f7-b6ba-34a80799550c/resourcegroups/workshopmlRG/workspaces/workshopml\" target=\"_blank\" rel=\"noopener\">Link to Azure Machine Learning studio</a></td><td><a href=\"https://docs.microsoft.com/en-us/python/api/azureml-core/azureml.core.experiment.Experiment?view=azure-ml-py\" target=\"_blank\" rel=\"noopener\">Link to Documentation</a></td></tr></table>"
      ],
      "text/plain": [
       "Experiment(Name: workshop1-IntroductionAMLS,\n",
       "Workspace: workshopml)"
      ]
     },
     "execution_count": 21,
     "metadata": {},
     "output_type": "execute_result"
    }
   ],
   "source": [
    "experiment"
   ]
  },
  {
   "cell_type": "code",
   "execution_count": 22,
   "metadata": {},
   "outputs": [
    {
     "name": "stderr",
     "output_type": "stream",
     "text": [
      "71it [00:06, 11.78it/s]"
     ]
    },
    {
     "name": "stdout",
     "output_type": "stream",
     "text": [
      "ID du meilleur Run = 5dae9a60-bdd5-4555-bfcf-e917bce3ab78\n",
      "Métriques du meilleur Run =  {'alpha': 0.4, 'mse': 3295.741064355809}\n"
     ]
    },
    {
     "name": "stderr",
     "output_type": "stream",
     "text": [
      "\n"
     ]
    }
   ],
   "source": [
    "runs = {}\n",
    "run_metrics = {}\n",
    "\n",
    "# Create dictionaries containing the runs and the metrics for all runs containing the 'mse' metric\n",
    "for r in tqdm(experiment.get_runs()):\n",
    "    metrics = r.get_metrics()\n",
    "    if 'mse' in metrics.keys():\n",
    "        runs[r.id] = r\n",
    "        run_metrics[r.id] = metrics\n",
    "\n",
    "# Find the run with the best (lowest) mean squared error and display the id and metrics\n",
    "best_run_id = min(run_metrics, key = lambda k: run_metrics[k]['mse'])\n",
    "best_run = runs[best_run_id]\n",
    "print('ID du meilleur Run =', best_run_id)\n",
    "print('Métriques du meilleur Run = ', run_metrics[best_run_id])\n",
    "\n",
    "# On ajoute un TAG au modèle pour l'identifier plus rapidement\n",
    "best_run.tag(\"Meilleur\")"
   ]
  },
  {
   "cell_type": "markdown",
   "metadata": {},
   "source": [
    "### Visualisation des pkl du répertoire Outputs"
   ]
  },
  {
   "cell_type": "code",
   "execution_count": 23,
   "metadata": {},
   "outputs": [
    {
     "name": "stdout",
     "output_type": "stream",
     "text": [
      "logs/user_log.txt\n",
      "outputs/modele_ridge_alpha_0.0.pkl\n",
      "outputs/modele_ridge_alpha_0.1.pkl\n",
      "outputs/modele_ridge_alpha_0.2.pkl\n",
      "outputs/modele_ridge_alpha_0.30000000000000004.pkl\n",
      "outputs/modele_ridge_alpha_0.4.pkl\n",
      "outputs/modele_ridge_alpha_0.5.pkl\n",
      "outputs/modele_ridge_alpha_0.6000000000000001.pkl\n",
      "outputs/modele_ridge_alpha_0.7000000000000001.pkl\n",
      "outputs/modele_ridge_alpha_0.8.pkl\n",
      "outputs/modele_ridge_alpha_0.9.pkl\n"
     ]
    }
   ],
   "source": [
    "for f in best_run.get_file_names():\n",
    "    print(f)"
   ]
  },
  {
   "cell_type": "markdown",
   "metadata": {},
   "source": [
    "### J'enregistre le meilleur modèle dans le repository de modèle Azure ML service"
   ]
  },
  {
   "cell_type": "code",
   "execution_count": 25,
   "metadata": {},
   "outputs": [],
   "source": [
    "model = best_run.register_model(model_name='meilleur_modele_ridge', model_path='outputs/modele_ridge_alpha_0.4.pkl')"
   ]
  },
  {
   "cell_type": "markdown",
   "metadata": {},
   "source": [
    "### Je visualise le modèle et la version associée"
   ]
  },
  {
   "cell_type": "code",
   "execution_count": 29,
   "metadata": {},
   "outputs": [
    {
     "name": "stdout",
     "output_type": "stream",
     "text": [
      "Modèle : meilleur_modele_ridge - version = 4\n",
      "Modèle : meilleur_modele_ridge - version = 3\n",
      "Modèle : meilleur_modele_ridge - version = 2\n",
      "Modèle : meilleur_modele_ridge - version = 1\n"
     ]
    }
   ],
   "source": [
    "from azureml.core.model import Model\n",
    "models = Model.list(ws, name='meilleur_modele_ridge')\n",
    "for m in models:\n",
    "    print(\"Modèle :\",m.name, \"- version =\", m.version)"
   ]
  },
  {
   "cell_type": "code",
   "execution_count": 30,
   "metadata": {},
   "outputs": [],
   "source": [
    "# On télécharge en local le pickle du modèle\n",
    "best_run.download_file(name=\"outputs/modele_ridge_alpha_0.4.pkl\")"
   ]
  },
  {
   "cell_type": "code",
   "execution_count": 31,
   "metadata": {},
   "outputs": [
    {
     "name": "stdout",
     "output_type": "stream",
     "text": [
      "-rwxrwxrwx 1 root root 658 Dec  4 15:04 \u001b[0m\u001b[01;32mmodele_ridge_alpha_0.4.pkl\u001b[0m*\r\n"
     ]
    }
   ],
   "source": [
    "# On regarde si le fichier a bien été téléchargé en local (ici la VM notebook)\n",
    "%ls modele_ridge_*.pkl -l"
   ]
  },
  {
   "cell_type": "markdown",
   "metadata": {},
   "source": [
    "<img src=\"https://github.com/retkowsky/images/blob/master/Powered-by-MS-Azure-logo-v2.png?raw=true\" height=\"300\" width=\"300\">"
   ]
  }
 ],
 "metadata": {
  "kernelspec": {
   "display_name": "Python 3.6 - AzureML",
   "language": "python",
   "name": "python3-azureml"
  },
  "language_info": {
   "codemirror_mode": {
    "name": "ipython",
    "version": 3
   },
   "file_extension": ".py",
   "mimetype": "text/x-python",
   "name": "python",
   "nbconvert_exporter": "python",
   "pygments_lexer": "ipython3",
   "version": "3.6.9"
  }
 },
 "nbformat": 4,
 "nbformat_minor": 2
}
