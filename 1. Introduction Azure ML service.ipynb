{
 "cells": [
  {
   "cell_type": "markdown",
   "metadata": {},
   "source": [
    "# Introduction Azure ML service\n",
    "<br>\n",
    "\n",
    "<img src='https://github.com/retkowsky/images/blob/master/AzureMLservicebanniere.png?raw=true'>\n",
    "\n",
    "\n",
    "> Documentation : https://docs.microsoft.com/en-us/azure/machine-learning/"
   ]
  },
  {
   "cell_type": "markdown",
   "metadata": {},
   "source": [
    "## 0. Paramétrage"
   ]
  },
  {
   "cell_type": "code",
   "execution_count": 1,
   "metadata": {},
   "outputs": [
    {
     "data": {
      "text/plain": [
       "'3.6.9 |Anaconda, Inc.| (default, Jul 30 2019, 19:07:31) \\n[GCC 7.3.0]'"
      ]
     },
     "execution_count": 1,
     "metadata": {},
     "output_type": "execute_result"
    }
   ],
   "source": [
    "import sys\n",
    "sys.version"
   ]
  },
  {
   "cell_type": "code",
   "execution_count": 2,
   "metadata": {},
   "outputs": [
    {
     "name": "stdout",
     "output_type": "stream",
     "text": [
      "2019-12-10 08:36:25.080303\n"
     ]
    }
   ],
   "source": [
    "import datetime\n",
    "now = datetime.datetime.now()\n",
    "print(now)"
   ]
  },
  {
   "cell_type": "code",
   "execution_count": 3,
   "metadata": {},
   "outputs": [
    {
     "name": "stdout",
     "output_type": "stream",
     "text": [
      "Version Azure ML service :  1.0.74\n"
     ]
    }
   ],
   "source": [
    "import azureml.core\n",
    "from azureml.core import Experiment, Workspace\n",
    "\n",
    "# Check core SDK version number\n",
    "print(\"Version Azure ML service : \", azureml.core.VERSION)"
   ]
  },
  {
   "cell_type": "code",
   "execution_count": 4,
   "metadata": {},
   "outputs": [
    {
     "name": "stdout",
     "output_type": "stream",
     "text": [
      "Workspace name: workshopml\n",
      "Azure region: northeurope\n",
      "Resource group: workshopmlRG\n"
     ]
    }
   ],
   "source": [
    "# Rappel des infos du workspace Azure ML service\n",
    "ws = Workspace.from_config()\n",
    "print('Workspace name: ' + ws.name, \n",
    "      'Azure region: ' + ws.location, \n",
    "      'Resource group: ' + ws.resource_group, sep='\\n')"
   ]
  },
  {
   "cell_type": "markdown",
   "metadata": {},
   "source": [
    "## 1. Chargement des données"
   ]
  },
  {
   "cell_type": "code",
   "execution_count": 5,
   "metadata": {},
   "outputs": [],
   "source": [
    "from sklearn.datasets import load_diabetes\n",
    "from sklearn.linear_model import Ridge\n",
    "from sklearn.metrics import mean_squared_error\n",
    "from sklearn.model_selection import train_test_split\n",
    "from sklearn.externals import joblib"
   ]
  },
  {
   "cell_type": "code",
   "execution_count": 6,
   "metadata": {},
   "outputs": [],
   "source": [
    "X, y = load_diabetes(return_X_y = True)\n",
    "columns = ['age', 'gender', 'bmi', 'bp', 's1', 's2', 's3', 's4', 's5', 's6']"
   ]
  },
  {
   "cell_type": "code",
   "execution_count": 7,
   "metadata": {},
   "outputs": [],
   "source": [
    "# Partitionnement des données\n",
    "X_train, X_test, y_train, y_test = train_test_split(X, y, test_size=0.2, random_state=0)\n",
    "\n",
    "data = {\n",
    "    \"train\":{\"X\": X_train, \"y\": y_train},        \n",
    "    \"test\":{\"X\": X_test, \"y\": y_test}\n",
    "}"
   ]
  },
  {
   "cell_type": "code",
   "execution_count": 8,
   "metadata": {},
   "outputs": [
    {
     "name": "stdout",
     "output_type": "stream",
     "text": [
      "Training = 353 observations\n"
     ]
    }
   ],
   "source": [
    "print (\"Training =\", len(data['train']['X']), 'observations')"
   ]
  },
  {
   "cell_type": "code",
   "execution_count": 9,
   "metadata": {},
   "outputs": [
    {
     "name": "stdout",
     "output_type": "stream",
     "text": [
      "Test = 89 observations\n"
     ]
    }
   ],
   "source": [
    "print (\"Test =\", len(data['test']['X']), 'observations')"
   ]
  },
  {
   "cell_type": "markdown",
   "metadata": {},
   "source": [
    "## 2. Modélisation"
   ]
  },
  {
   "cell_type": "markdown",
   "metadata": {},
   "source": [
    "Nous allons réaliser un modèle de régression **Ridge**.<br> \n",
    "<img src='https://github.com/retkowsky/images/blob/master/ridge.png?raw=true'>\n",
    "<br>\n",
    "C'est une version régularisée de la régression linéaire.\n",
    "Cela permet d'ajuster les données avec des coefficents de pondération du modèle les plus petits possibles.\n",
    "- Si le paramétre = 0 => nous avons dans ce cas une régression linéaire.\n",
    "- Si le paramétre a une valeur importante, alors les coefficients de pondérations ont des valeurs proches de 0 => on aura dans ce cas une ligne horizontale qui passe par la moyenne des données.\n",
    "\n"
   ]
  },
  {
   "cell_type": "code",
   "execution_count": 10,
   "metadata": {},
   "outputs": [],
   "source": [
    "experiment = Experiment(workspace=ws, name=\"workshop1-IntroductionAMLS\")"
   ]
  },
  {
   "cell_type": "markdown",
   "metadata": {},
   "source": [
    "Les étapes\n",
    "1. Logs d'informations\n",
    "2. Modélisation\n",
    "3. Logs de résultats de modèles\n",
    "4. Sauvegarde modèle"
   ]
  },
  {
   "cell_type": "code",
   "execution_count": 12,
   "metadata": {},
   "outputs": [],
   "source": [
    "def regridge(alpha):\n",
    "    \n",
    "    from datetime import datetime\n",
    "    maintenant = datetime.now()\n",
    "    print(\"Maintenant : \", maintenant)\n",
    "\n",
    "    # 1. Run\n",
    "    run = experiment.start_logging()\n",
    "    print('Alpha = ', alpha)\n",
    "    \n",
    "    # 2. Logs de valeurs\n",
    "    run.log('alpha', alpha)\n",
    "    run.log('date_log', str(maintenant))\n",
    "\n",
    "    # 3. Modèle ML\n",
    "    regression_model = Ridge(alpha=alpha)\n",
    "    regression_model.fit(data['train']['X'], data['train']['y'])\n",
    "    preds = regression_model.predict(data['test']['X'])\n",
    "\n",
    "    # 4. Log des métriques\n",
    "    print('MSE ou Mean Squared Error du modèle =', mean_squared_error(data['test']['y'], preds))\n",
    "    run.log('mse', mean_squared_error(data['test']['y'], preds))\n",
    "\n",
    "    # 5. Export modèle\n",
    "    joblib.dump(value=regression_model, filename='modelenotebook1.pkl')\n",
    "\n",
    "    # 6. Ajout de tags au run\n",
    "    run.tag(\"Langage\", \"Python\")\n",
    "    run.tag(\"Version_Python\", \"3.6.9\")\n",
    "    run.tag(\"Version_AMLS\", \"1.0.74\")\n",
    "    run.tag(\"Team\", \"DataScience\")\n",
    "    run.tag(\"Pays\", \"France\") \n",
    "    run.tag(\"Auteur\", \"Serge\") \n",
    "    \n",
    "    # 6. Fin\n",
    "    run.complete()"
   ]
  },
  {
   "cell_type": "markdown",
   "metadata": {},
   "source": [
    "Rappel: Définition MSE\n",
    "<img src=\"https://wikimedia.org/api/rest_v1/media/math/render/svg/e258221518869aa1c6561bb75b99476c4734108e\">"
   ]
  },
  {
   "cell_type": "code",
   "execution_count": 13,
   "metadata": {},
   "outputs": [
    {
     "name": "stdout",
     "output_type": "stream",
     "text": [
      "Maintenant :  2019-12-10 08:37:38.980897\n",
      "Alpha =  0.1\n",
      "MSE ou Mean Squared Error du modèle = 3372.649627810032\n"
     ]
    }
   ],
   "source": [
    "regridge(0.1)"
   ]
  },
  {
   "cell_type": "code",
   "execution_count": 14,
   "metadata": {},
   "outputs": [
    {
     "name": "stdout",
     "output_type": "stream",
     "text": [
      "Maintenant :  2019-12-10 08:37:56.209423\n",
      "Alpha =  0.2\n",
      "MSE ou Mean Squared Error du modèle = 3325.2946794678764\n"
     ]
    }
   ],
   "source": [
    "regridge(0.2)"
   ]
  },
  {
   "cell_type": "code",
   "execution_count": 15,
   "metadata": {},
   "outputs": [
    {
     "name": "stdout",
     "output_type": "stream",
     "text": [
      "Maintenant :  2019-12-10 08:38:03.585545\n",
      "Alpha =  0.3\n",
      "MSE ou Mean Squared Error du modèle = 3302.6736334017255\n"
     ]
    }
   ],
   "source": [
    "regridge(0.3)"
   ]
  },
  {
   "cell_type": "code",
   "execution_count": 16,
   "metadata": {},
   "outputs": [
    {
     "name": "stdout",
     "output_type": "stream",
     "text": [
      "-rwxrwxrwx 1 root root 645 Dec 10 08:38 \u001b[0m\u001b[01;32mmodelenotebook1.pkl\u001b[0m*\r\n"
     ]
    }
   ],
   "source": [
    "# On regarde si on a bien téléchargé le pickle du modèle\n",
    "%ls modelenotebook1.pkl -l"
   ]
  },
  {
   "cell_type": "markdown",
   "metadata": {},
   "source": [
    "> Nous pouvons visualiser les résultats sur le portail dans la section **experiments**"
   ]
  },
  {
   "cell_type": "markdown",
   "metadata": {},
   "source": [
    "## 3. Création d'une seconde expérimentation"
   ]
  },
  {
   "cell_type": "code",
   "execution_count": 17,
   "metadata": {},
   "outputs": [],
   "source": [
    "experiment = Experiment(workspace=ws, name=\"workshop1-IntroductionAMLS2\")"
   ]
  },
  {
   "cell_type": "markdown",
   "metadata": {},
   "source": [
    "### Boucle sur le paramètre alpha"
   ]
  },
  {
   "cell_type": "code",
   "execution_count": 19,
   "metadata": {},
   "outputs": [
    {
     "name": "stderr",
     "output_type": "stream",
     "text": [
      "100%|██████████| 20/20 [02:31<00:00,  7.58s/it]"
     ]
    },
    {
     "name": "stdout",
     "output_type": "stream",
     "text": [
      "CPU times: user 10.4 s, sys: 2.35 s, total: 12.8 s\n",
      "Wall time: 2min 31s\n"
     ]
    },
    {
     "name": "stderr",
     "output_type": "stream",
     "text": [
      "\n"
     ]
    }
   ],
   "source": [
    "%%time\n",
    "import numpy as np\n",
    "from tqdm import tqdm\n",
    "\n",
    "# On boucle par pas de 0.05 entre 0 et 1\n",
    "alphas = np.arange(0.0, 1.0, 0.05)\n",
    "\n",
    "# try a bunch of alpha values in a Linear Regression (Ridge) model\n",
    "for alpha in tqdm(alphas):\n",
    "    # create a bunch of runs, each train a model with a different alpha value\n",
    "    with experiment.start_logging() as run:\n",
    "        # Use Ridge algorithm to build a regression model\n",
    "        alpha=round(alpha, 2)\n",
    "        regression_model = Ridge(alpha=alpha)\n",
    "        regression_model.fit(X=data[\"train\"][\"X\"], y=data[\"train\"][\"y\"])\n",
    "        preds = regression_model.predict(X=data[\"test\"][\"X\"])\n",
    "        mse = mean_squared_error(y_true=data[\"test\"][\"y\"], y_pred=preds)\n",
    "        mse=round(mse, 2)\n",
    "        # log alpha, mean_squared_error and feature names in run history\n",
    "        run.log(name=\"alpha\", value=alpha)\n",
    "        run.log(name=\"mse\", value=mse)\n",
    "        \n",
    "        # Génération pickle du modèle\n",
    "        model_name = \"modele_ridge_alpha_\" + str(round(alpha, 2)) + \".pkl\"\n",
    "        filename = \"outputs/\" + model_name\n",
    "    \n",
    "        # Save the model to the outputs directory for capture\n",
    "        joblib.dump(value=regression_model, filename=filename)\n",
    "        \n",
    "        # Tags\n",
    "        run.tag(\"Langage\", \"Python\")\n",
    "        run.tag(\"Version_Python\", \"3.6.9\")\n",
    "        run.tag(\"Version_AMLS\", \"1.0.74\")\n",
    "        run.tag(\"Team\", \"DataScience\")\n",
    "        run.tag(\"Pays\", \"France\") \n",
    "        run.tag(\"Auteur\", \"Franck\") "
   ]
  },
  {
   "cell_type": "markdown",
   "metadata": {},
   "source": [
    "### Accés direct au portail"
   ]
  },
  {
   "cell_type": "code",
   "execution_count": 20,
   "metadata": {},
   "outputs": [
    {
     "data": {
      "text/html": [
       "<table style=\"width:100%\"><tr><th>Name</th><th>Workspace</th><th>Report Page</th><th>Docs Page</th></tr><tr><td>workshop1-IntroductionAMLS2</td><td>workshopml</td><td><a href=\"https://ml.azure.com/experiments/workshop1-IntroductionAMLS2?wsid=/subscriptions/70b8f39e-8863-49f7-b6ba-34a80799550c/resourcegroups/workshopmlRG/workspaces/workshopml\" target=\"_blank\" rel=\"noopener\">Link to Azure Machine Learning studio</a></td><td><a href=\"https://docs.microsoft.com/en-us/python/api/azureml-core/azureml.core.experiment.Experiment?view=azure-ml-py\" target=\"_blank\" rel=\"noopener\">Link to Documentation</a></td></tr></table>"
      ],
      "text/plain": [
       "Experiment(Name: workshop1-IntroductionAMLS2,\n",
       "Workspace: workshopml)"
      ]
     },
     "execution_count": 20,
     "metadata": {},
     "output_type": "execute_result"
    }
   ],
   "source": [
    "experiment"
   ]
  },
  {
   "cell_type": "code",
   "execution_count": 29,
   "metadata": {},
   "outputs": [
    {
     "name": "stderr",
     "output_type": "stream",
     "text": [
      "60it [00:05, 11.60it/s]"
     ]
    },
    {
     "name": "stdout",
     "output_type": "stream",
     "text": [
      "Métriques du meilleur Run =  {'alpha': 0.4, 'mse': 3295.74}\n",
      "ID du meilleur Run = d0e9bd5f-5961-4aad-a743-098c04cc6226\n"
     ]
    },
    {
     "name": "stderr",
     "output_type": "stream",
     "text": [
      "\n"
     ]
    }
   ],
   "source": [
    "runs = {}\n",
    "run_metrics = {}\n",
    "\n",
    "# Create dictionaries containing the runs and the metrics for all runs containing the 'mse' metric\n",
    "for r in tqdm(experiment.get_runs()):\n",
    "    metrics = r.get_metrics()\n",
    "    if 'mse' in metrics.keys():\n",
    "        runs[r.id] = r\n",
    "        run_metrics[r.id] = metrics\n",
    "\n",
    "# Find the run with the best (lowest) mean squared error and display the id and metrics\n",
    "best_run_id = min(run_metrics, key = lambda k: run_metrics[k]['mse'])\n",
    "best_run = runs[best_run_id]\n",
    "\n",
    "print('Métriques du meilleur Run = ', run_metrics[best_run_id])\n",
    "print('ID du meilleur Run =', best_run_id)\n",
    "\n"
   ]
  },
  {
   "cell_type": "code",
   "execution_count": 30,
   "metadata": {},
   "outputs": [
    {
     "data": {
      "text/html": [
       "<table style=\"width:100%\"><tr><th>Name</th><th>Workspace</th><th>Report Page</th><th>Docs Page</th></tr><tr><td>workshop1-IntroductionAMLS2</td><td>workshopml</td><td><a href=\"https://ml.azure.com/experiments/workshop1-IntroductionAMLS2?wsid=/subscriptions/70b8f39e-8863-49f7-b6ba-34a80799550c/resourcegroups/workshopmlRG/workspaces/workshopml\" target=\"_blank\" rel=\"noopener\">Link to Azure Machine Learning studio</a></td><td><a href=\"https://docs.microsoft.com/en-us/python/api/azureml-core/azureml.core.experiment.Experiment?view=azure-ml-py\" target=\"_blank\" rel=\"noopener\">Link to Documentation</a></td></tr></table>"
      ],
      "text/plain": [
       "Experiment(Name: workshop1-IntroductionAMLS2,\n",
       "Workspace: workshopml)"
      ]
     },
     "execution_count": 30,
     "metadata": {},
     "output_type": "execute_result"
    }
   ],
   "source": [
    "experiment"
   ]
  },
  {
   "cell_type": "markdown",
   "metadata": {},
   "source": [
    "### J'enregistre le meilleur modèle dans le repository de modèle Azure ML service"
   ]
  },
  {
   "cell_type": "code",
   "execution_count": 31,
   "metadata": {},
   "outputs": [],
   "source": [
    "model = best_run.register_model(model_name='meilleur_modele_ridge', model_path='outputs/modele_ridge_alpha_0.4.pkl')"
   ]
  },
  {
   "cell_type": "markdown",
   "metadata": {},
   "source": [
    "### Je visualise le modèle et la version associée"
   ]
  },
  {
   "cell_type": "code",
   "execution_count": 32,
   "metadata": {},
   "outputs": [
    {
     "name": "stdout",
     "output_type": "stream",
     "text": [
      "Modèle : meilleur_modele_ridge - version = 10\n",
      "Modèle : meilleur_modele_ridge - version = 9\n",
      "Modèle : meilleur_modele_ridge - version = 8\n",
      "Modèle : meilleur_modele_ridge - version = 7\n"
     ]
    }
   ],
   "source": [
    "from azureml.core.model import Model\n",
    "models = Model.list(ws, name='meilleur_modele_ridge')\n",
    "for m in models:\n",
    "    print(\"Modèle :\",m.name, \"- version =\", m.version)"
   ]
  },
  {
   "cell_type": "markdown",
   "metadata": {},
   "source": [
    "### On télécharge en local le pickle du modèle"
   ]
  },
  {
   "cell_type": "code",
   "execution_count": 33,
   "metadata": {},
   "outputs": [],
   "source": [
    "best_run.download_file(name=\"outputs/modele_ridge_alpha_0.4.pkl\")"
   ]
  },
  {
   "cell_type": "markdown",
   "metadata": {},
   "source": [
    "### On regarde si le fichier a bien été téléchargé en local (ici la VM notebook)"
   ]
  },
  {
   "cell_type": "code",
   "execution_count": 34,
   "metadata": {},
   "outputs": [
    {
     "name": "stdout",
     "output_type": "stream",
     "text": [
      "-rwxrwxrwx 1 root root 658 Dec 10 08:51 \u001b[0m\u001b[01;32mmodele_ridge_alpha_0.4.pkl\u001b[0m*\r\n"
     ]
    }
   ],
   "source": [
    "%ls modele_ridge_*.pkl -l"
   ]
  },
  {
   "cell_type": "markdown",
   "metadata": {},
   "source": [
    "<img src=\"https://github.com/retkowsky/images/blob/master/Powered-by-MS-Azure-logo-v2.png?raw=true\" height=\"300\" width=\"300\">"
   ]
  }
 ],
 "metadata": {
  "kernelspec": {
   "display_name": "Python 3.6 - AzureML",
   "language": "python",
   "name": "python3-azureml"
  },
  "language_info": {
   "codemirror_mode": {
    "name": "ipython",
    "version": 3
   },
   "file_extension": ".py",
   "mimetype": "text/x-python",
   "name": "python",
   "nbconvert_exporter": "python",
   "pygments_lexer": "ipython3",
   "version": "3.6.9"
  }
 },
 "nbformat": 4,
 "nbformat_minor": 2
}
